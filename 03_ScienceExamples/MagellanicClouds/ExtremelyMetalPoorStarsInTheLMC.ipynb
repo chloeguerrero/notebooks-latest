{
 "cells": [
  {
   "cell_type": "code",
   "execution_count": 1,
   "id": "82cc87f0-91c4-433f-af58-56e27d6bd45d",
   "metadata": {
    "execution": {
     "iopub.execute_input": "2024-10-22T22:19:13.681881Z",
     "iopub.status.busy": "2024-10-22T22:19:13.681656Z",
     "iopub.status.idle": "2024-10-22T22:19:13.687501Z",
     "shell.execute_reply": "2024-10-22T22:19:13.686983Z",
     "shell.execute_reply.started": "2024-10-22T22:19:13.681867Z"
    }
   },
   "outputs": [],
   "source": [
    "__author__ = 'Alice Jacques <alice.jacques@noirlab.edu>'\n",
    "__version__ = '20241022' # yyyymmdd; \n",
    "__datasets__ = ['skymapper_dr4', 'gaia_dr3', 'sdss_dr17']\n",
    "__keywords__ = ['science example']"
   ]
  },
  {
   "cell_type": "markdown",
   "id": "f153fc91-4352-4d4b-b622-253d7e5c1115",
   "metadata": {},
   "source": [
    "## The SkyMapper search for extremely metal-poor stars in the Large Magellanic Cloud\n",
    "https://ui.adsabs.harvard.edu/abs/2023MNRAS.524..577O/abstract  \n",
    "Oh et al. 2023\n",
    "\n",
    "https://academic.oup.com/mnras/article/489/4/5900/5568381?login=false  \n",
    "Da Costa et al. 2019"
   ]
  },
  {
   "cell_type": "markdown",
   "id": "55a2f022-3254-44ee-a38e-d9bfb6d0f0b8",
   "metadata": {},
   "source": [
    "### Table of contents\n",
    "* [Goals & notebook summary](#goals)\n",
    "* [Disclaimer & attribution](#attribution)\n",
    "* [Imports & setup](#import)\n",
    "* [Authentication](#auth)\n",
    "* [First chapter](#chapter1)\n",
    "* [Resources and references](#resources)"
   ]
  },
  {
   "cell_type": "markdown",
   "id": "f6ad8015-7db4-4186-b45a-ca09226c7d39",
   "metadata": {},
   "source": [
    "<a class=\"anchor\" id=\"goals\"></a>\n",
    "# Goals\n",
    "One or two sentences, or a bullet list, of the goals of this notebook. E.g. \"To find dwarf galaxies in DES DR1 images\"."
   ]
  },
  {
   "cell_type": "markdown",
   "id": "434bc8f3-490d-4013-b8f4-ed517a4c9a22",
   "metadata": {},
   "source": [
    "# Summary\n",
    "\n",
    "**Abstract:**  \n",
    "We present results of a search for extremely metal-poor (EMP) stars in the Large Magellanic Cloud (LMC), which can provide crucial information about the properties of the first stars as well as on the formation conditions prevalent during the earliest stages of star formation in dwarf galaxies. Our search utilized SkyMapper photometry, together with parallax and proper motion cuts (from Gaia), colour–magnitude cuts (by selecting the red giant branch region), and finally a metallicity-sensitive cut. Low-resolution spectra of a sample of photometric candidates were taken using the ANU 2.3m telescope/WiFeS spectrograph, from which seven stars with [Fe/H] ≤ −2.75 were identified, two of which have [Fe/H] ≤ −3. Radial velocities, derived from the Ca II triplet lines, closely match the outer rotation curve of the LMC for the majority of the candidates in our sample. Therefore, our targets are robustly members of the LMC based on their 6D phase-space information (coordinates, spectrophotometric distance, proper motions, and radial velocities), and they constitute the most metal-poor stars so far discovered in this galaxy.\n",
    "\n",
    "**Conclusions:**  \n",
    "We present results of our search for EMP stars in the LMC via SkyMapper photometry. Our photometric selection of EMP stars involved applying cuts on parallax and proper motion (from Gaia), on the colour–magnitude diagram (by selecting the RGB region), and a metallicity-sensitive cut. To confirm the EMP status of our photometric candidates, we obtained low-resolution spectra using the ANU 2.3m telescope/WiFeS spectrograph combination. We identified seven stars with [Fe/H] ≤ −2.75, including two with [Fe/H] ≤ −3. Radial velocities, derived from the Ca II triplet lines, generally match well with the outer rotation curve of the LMC for the candidates in our sample, confirming that our targets are probable LMC members. Our results constitute the most metal-poor stars found so far in the LMC. We have obtained high-resolution spectra of the most metal-poor sample and will present our findings in a future paper."
   ]
  },
  {
   "cell_type": "markdown",
   "id": "751fa214-ee05-4a9e-995b-6101d0254398",
   "metadata": {},
   "source": [
    "<a class=\"anchor\" id=\"attribution\"></a>\n",
    "# Disclaimer & attribution\n",
    "If you use this notebook for your published science, please acknowledge the following:\n",
    "\n",
    "* Data Lab concept paper: Fitzpatrick et al., \"The NOAO Data Laboratory: a conceptual overview\", SPIE, 9149, 2014, http://dx.doi.org/10.1117/12.2057445\n",
    "\n",
    "* Data Lab disclaimer: https://datalab.noirlab.edu/disclaimers.php"
   ]
  },
  {
   "cell_type": "markdown",
   "id": "d0fa7e2d-a172-42c8-964b-b86cfc5032bc",
   "metadata": {},
   "source": [
    "<a class=\"anchor\" id=\"import\"></a>\n",
    "# Imports and setup"
   ]
  },
  {
   "cell_type": "code",
   "execution_count": 2,
   "id": "8ad9f77f-2f8a-4143-a374-2100315021e8",
   "metadata": {
    "execution": {
     "iopub.execute_input": "2024-10-22T22:19:13.688123Z",
     "iopub.status.busy": "2024-10-22T22:19:13.687993Z",
     "iopub.status.idle": "2024-10-22T22:19:14.830992Z",
     "shell.execute_reply": "2024-10-22T22:19:14.830274Z",
     "shell.execute_reply.started": "2024-10-22T22:19:13.688113Z"
    },
    "tags": []
   },
   "outputs": [],
   "source": [
    "# Standard lib\n",
    "from getpass import getpass\n",
    "\n",
    "# 3rd party imports\n",
    "import numpy as np\n",
    "%matplotlib inline\n",
    "import matplotlib.pyplot as plt\n",
    "from matplotlib.colors import LogNorm\n",
    "import pandas as pd\n",
    "\n",
    "# Data Lab\n",
    "from dl import authClient as ac, queryClient as qc, storeClient as sc\n",
    "\n",
    "# plots default setup\n",
    "plt.rcParams['font.size'] = 14"
   ]
  },
  {
   "cell_type": "markdown",
   "id": "9e1c37d2-137d-4b64-940c-fbcbd250b0ce",
   "metadata": {},
   "source": [
    "<a class=\"anchor\" id=\"auth\"></a>\n",
    "# Authentication\n",
    "Much of the functionality of Data Lab can be accessed without explicitly logging in (the service then uses an anonymous login). But some capacities, for instance saving the results of your queries to your virtual storage space, require a login (i.e. you will need a registered user account).\n",
    "\n",
    "If you need to log in to Data Lab, un-comment the cell below and execute it:"
   ]
  },
  {
   "cell_type": "code",
   "execution_count": 3,
   "id": "c0e071f3-203b-4c7a-950d-21d7af6366e0",
   "metadata": {
    "execution": {
     "iopub.execute_input": "2024-10-22T22:19:14.832051Z",
     "iopub.status.busy": "2024-10-22T22:19:14.831831Z",
     "iopub.status.idle": "2024-10-22T22:19:14.837475Z",
     "shell.execute_reply": "2024-10-22T22:19:14.837049Z",
     "shell.execute_reply.started": "2024-10-22T22:19:14.832036Z"
    },
    "tags": []
   },
   "outputs": [
    {
     "data": {
      "text/plain": [
       "'ajacques'"
      ]
     },
     "execution_count": 3,
     "metadata": {},
     "output_type": "execute_result"
    }
   ],
   "source": [
    "#token = ac.login(input(\"Enter user name: (+ENTER) \"),getpass(\"Enter password: (+ENTER) \"))\n",
    "ac.whoAmI()"
   ]
  },
  {
   "cell_type": "markdown",
   "id": "612185ca-2fff-4288-8942-0e41d63c27dc",
   "metadata": {},
   "source": [
    "#### We define a little helper function to make computing 2D histograms easier."
   ]
  },
  {
   "cell_type": "code",
   "execution_count": 4,
   "id": "bacc6dee-ef56-4692-bbfe-61c9d96dac3a",
   "metadata": {
    "execution": {
     "iopub.execute_input": "2024-10-22T22:19:14.838870Z",
     "iopub.status.busy": "2024-10-22T22:19:14.838701Z",
     "iopub.status.idle": "2024-10-22T22:19:14.866717Z",
     "shell.execute_reply": "2024-10-22T22:19:14.866259Z",
     "shell.execute_reply.started": "2024-10-22T22:19:14.838859Z"
    },
    "tags": []
   },
   "outputs": [],
   "source": [
    "def compute_nbins(x, y, binsize, extent=None):\n",
    "    \"\"\"Compute the needed number of x and y bins.\n",
    "    \n",
    "    From the x and y data, and the desired binsize (identical for x and y),\n",
    "    computes the number of needed x and y bins. If 'extent' is given, trim\n",
    "    x and y data to the limits given in 'extent' first. Otherwise, use the\n",
    "    full data range.\n",
    "    \n",
    "    Parameters:\n",
    "    -----------\n",
    "    n, x : 1D arrays\n",
    "      The x and y data to bin in 2D.\n",
    "      \n",
    "    binsize : float\n",
    "      The desired bin size (identical for x and y), in the units of x and y.\n",
    "      \n",
    "    extent : tuple\n",
    "      Optional. If not None, it is a 4-tuple (xmin,xmax,ymin,ymax).\n",
    "      \n",
    "    Returns:\n",
    "    --------\n",
    "    x, y : 1D arrays\n",
    "      If extent=None, the returned x and y are identical to the input x and y.\n",
    "      Otherwise they are trimmed to the [xmin,xmax] and [ymin,ymax] ranges\n",
    "      defined in 'extent'.\n",
    "    \"\"\"\n",
    "    \n",
    "    if extent is not None:\n",
    "        xmin, xmax, ymin, ymax = extent\n",
    "        select = (x >= xmin) & (x <= xmax) & (y >= ymin) & (y <= ymax)\n",
    "        x = x[select]\n",
    "        y = y[select]\n",
    "    else:\n",
    "        xmin, xmax, ymin, ymax = x.min(), x.max(), y.min(), y.max()\n",
    "        \n",
    "    nxbins = int((xmax-xmin)/binsize)\n",
    "    nybins = int((ymax-ymin)/binsize)\n",
    "\n",
    "    return x, y, nxbins, nybins"
   ]
  },
  {
   "cell_type": "markdown",
   "id": "1b4a881d-0753-47cc-8597-50e8817c5e80",
   "metadata": {},
   "source": [
    "# Query for candidates from SkyMapper DR4 and Gaia DR3\n",
    "We will search for objects in the **skymapper_dr4.master** table with the following initial constraints:\n",
    "- $class\\_star > 0.9$\n",
    "    > to ensure that the object is stellar in nature\n",
    "- $flags \\le 3$\n",
    "    > so that there are no apparent issues with the [SExtractor](https://sextractor.readthedocs.io/en/latest/index.htmlhttps://sextractor.readthedocs.io/en/latest/index.html) photometry\n",
    "- $v\\_ngood \\ge 2$\n",
    "    > to ensure at least two measurements in the v-band\n",
    "- $g\\_psf \\le 16.5$\n",
    "    > so that the LMC candidates can be observed at high dispersion on 8m-class telescopes with sensible integration times\n",
    "- $e\\_g\\_psf < 0.03$, $e\\_i\\_psf < 0.03$, and $e\\_v\\_psf < 0.05$ mag\n",
    "    > as a compromise between photometric precision and number of candidates selected\n",
    "- $ebmv\\_sfd < 0.25$ mag\n",
    "    > to avoid large reddening corrections to the photometry and to avoid areas of the sky where the photometry is less well calibrated and frequently affected by image crowding\n",
    "- $5 \\le \\cos^{-1}(\\sin(\\delta)\\sin(\\delta_{c}) + \\cos(\\delta)\\cos(\\delta_{c})\\cos(\\alpha-\\alpha_{c})) \\le 20$\n",
    "    > where $\\delta_{c} = -69.78$ deg and $\\alpha_{c} = 81.28$ deg is the center of the LMC. Limit to a region that is 5 deg to 20 deg in radius from the LMC center (to avoid crowding in the inner parts of the dwarf galaxy)\n",
    "- $m_{i} \\ge -0.2$\n",
    "    > metallicity index cut using the metallicity-sensitive index: $m_{i} = (v − g)_0 − 1.5(g − i)_0$ (since previous studies have shown that stars with metallicity indices more negative than this value are often young stars with Ca II H+K emission, or extragalactic objects such as quasi-stellar objects and active galactic nuclei ([Da Costa et al. 2019](https://academic.oup.com/mnras/article/489/4/5900/5568381?login=false)))\n",
    "- $0.7 \\le (g-i)_0 \\le 1.2$\n",
    "    > since the RGB at lower metallicities ($[Fe/H] \\le -2.5$) does not go beyond $(g-i)_{0} ~ 1.2$ mag for an old age ($\\gtrsim 10$ Gyr) population. The blue color cut is applied because we want to avoid contamination from young approximately solar metallicity disc dwarfs in the bluer parts of the CMD\n",
    "\n",
    "And crossmatch our objects with the **gaia_dr3.gaia_source** table with the following constraints:\n",
    "- $-0.2'' \\le \\pi \\le 0.2''$\n",
    "    > parallax between -0.2'' and 0.2''\n",
    "- $\\sqrt{1.7(\\mu_{\\alpha} - 1.80)^{2} + 0.8(\\mu_{\\delta} - 0.37)^{2}} \\le 1.0$\n",
    "    > this equation was determined quantitatively, where they measured the average proper motion and spread for stars located 2 deg - 6 deg from the LMC center (to avoid kinematics from the core and contamination from the Milky Way Halo)\n",
    "  \n",
    "## **Constraints applied in the paper but not applied in this notebook (because the column does not exist in SkyMapper DR4):**\n",
    "- `nch_max = 1` so that there is a single source for each filter\n",
    "- `ngood_min >= 1` to ensure at least one measurement in all of ugriz\n",
    "- `prox > 7.5 AND twomass_dist2 > 7.5` so that there is no other DR1.1 or additional 2MASS source within 7.5 arcsec of the target (these columns aren't in skymapper dr4? use self_dist2 and gaia_dr3_dist2 instead?)"
   ]
  },
  {
   "cell_type": "code",
   "execution_count": 5,
   "id": "c13f9ce1-858b-440a-b180-3f5b3c1c7d90",
   "metadata": {
    "execution": {
     "iopub.execute_input": "2024-10-22T22:19:14.867392Z",
     "iopub.status.busy": "2024-10-22T22:19:14.867260Z",
     "iopub.status.idle": "2024-10-22T22:19:14.894230Z",
     "shell.execute_reply": "2024-10-22T22:19:14.893731Z",
     "shell.execute_reply.started": "2024-10-22T22:19:14.867381Z"
    }
   },
   "outputs": [
    {
     "name": "stdout",
     "output_type": "stream",
     "text": [
      "\n",
      "SELECT\n",
      "    s.object_id AS smss_id, s.gaia_dr3_id1 AS gaia_id, s.raj2000 as ra, s.dej2000 as dec,\n",
      "    s.g_psf, s.i_psf, s.v_psf, ((s.g_psf - s.i_psf) - 1.5 * s.ebmv_sfd) AS g_i0,\n",
      "    (s.g_psf - 2.986 * s.ebmv_sfd) AS g0, ((s.v_psf - s.g_psf) - 1.04 * s.ebmv_sfd) AS v_g0,\n",
      "    s.ebmv_sfd, s.radius,\n",
      "    (((s.v_psf - s.g_psf) - 1.04 * s.ebmv_sfd) - 1.5*((s.g_psf - s.i_psf) - 1.5 * s.ebmv_sfd)) AS metallicity,\n",
      "    (ATAN((81.28*(PI()/180) - s.raj2000*(PI()/180))/(-69.78*(PI()/180) - s.dej2000*(PI()/180))))*(180/PI()) AS angle,\n",
      "    g.parallax, g.pmra, g.pmdec\n",
      "FROM\n",
      "    (SELECT *, q3c_dist(raj2000, dej2000, 81.28, -69.78) as radius\n",
      "     FROM skymapper_dr4.master\n",
      "     WHERE q3c_radial_query(raj2000, dej2000, 81.28, -69.78, 20)\n",
      "     AND not q3c_radial_query(raj2000, dej2000, 81.28, -69.78, 5)\n",
      "     ) AS s\n",
      "JOIN\n",
      "    gaia_dr3.gaia_source AS g ON s.gaia_dr3_id1 = g.source_id\n",
      "WHERE\n",
      "    s.class_star > 0.9\n",
      "    AND s.flags <= 3\n",
      "    AND s.v_ngood >= 2\n",
      "    AND s.g_psf >= 16.5\n",
      "    AND s.e_g_psf < 0.03\n",
      "    AND s.e_i_psf < 0.03\n",
      "    AND s.e_v_psf < 0.05\n",
      "    AND s.ebmv_sfd < 0.25\n",
      "    AND s.g_psf != 'NaN'\n",
      "    AND s.i_psf != 'NaN'\n",
      "    AND s.v_psf != 'NaN'\n",
      "    AND s.gaia_dr3_dist2 > 7.5\n",
      "    AND s.self_dist2 > 7.5\n",
      "    AND -0.2 <= (((s.v_psf - s.g_psf) - 1.04 * s.ebmv_sfd) - 1.5*((s.g_psf - s.i_psf) - 1.5 * s.ebmv_sfd))\n",
      "    AND ((s.g_psf - s.i_psf) - 1.5 * s.ebmv_sfd) BETWEEN 0.7 AND 1.2\n",
      "    AND g.parallax BETWEEN -0.2 AND 0.2\n",
      "    AND SQRT(1.7*POWER(g.pmra - 1.80, 2) + 0.8*POWER(g.pmdec - 0.37, 2)) <= 1.0\n",
      "\n"
     ]
    }
   ],
   "source": [
    "query = \"\"\"\n",
    "SELECT\n",
    "    s.object_id AS smss_id, s.gaia_dr3_id1 AS gaia_id, s.raj2000 as ra, s.dej2000 as dec,\n",
    "    s.g_psf, s.i_psf, s.v_psf, ((s.g_psf - s.i_psf) - 1.5 * s.ebmv_sfd) AS g_i0,\n",
    "    (s.g_psf - 2.986 * s.ebmv_sfd) AS g0, ((s.v_psf - s.g_psf) - 1.04 * s.ebmv_sfd) AS v_g0,\n",
    "    s.ebmv_sfd, s.radius,\n",
    "    (((s.v_psf - s.g_psf) - 1.04 * s.ebmv_sfd) - 1.5*((s.g_psf - s.i_psf) - 1.5 * s.ebmv_sfd)) AS metallicity,\n",
    "    (ATAN((81.28*(PI()/180) - s.raj2000*(PI()/180))/(-69.78*(PI()/180) - s.dej2000*(PI()/180))))*(180/PI()) AS angle,\n",
    "    g.parallax, g.pmra, g.pmdec\n",
    "FROM\n",
    "    (SELECT *, q3c_dist(raj2000, dej2000, 81.28, -69.78) as radius\n",
    "     FROM skymapper_dr4.master\n",
    "     WHERE q3c_radial_query(raj2000, dej2000, 81.28, -69.78, 20)\n",
    "     AND not q3c_radial_query(raj2000, dej2000, 81.28, -69.78, 5)\n",
    "     ) AS s\n",
    "JOIN\n",
    "    gaia_dr3.gaia_source AS g ON s.gaia_dr3_id1 = g.source_id\n",
    "WHERE\n",
    "    s.class_star > 0.9\n",
    "    AND s.flags <= 3\n",
    "    AND s.v_ngood >= 2\n",
    "    AND s.g_psf >= 16.5\n",
    "    AND s.e_g_psf < 0.03\n",
    "    AND s.e_i_psf < 0.03\n",
    "    AND s.e_v_psf < 0.05\n",
    "    AND s.ebmv_sfd < 0.25\n",
    "    AND s.g_psf != 'NaN'\n",
    "    AND s.i_psf != 'NaN'\n",
    "    AND s.v_psf != 'NaN'\n",
    "    AND s.gaia_dr3_dist2 > 7.5\n",
    "    AND s.self_dist2 > 7.5\n",
    "    AND -0.2 <= (((s.v_psf - s.g_psf) - 1.04 * s.ebmv_sfd) - 1.5*((s.g_psf - s.i_psf) - 1.5 * s.ebmv_sfd))\n",
    "    AND ((s.g_psf - s.i_psf) - 1.5 * s.ebmv_sfd) BETWEEN 0.7 AND 1.2\n",
    "    AND g.parallax BETWEEN -0.2 AND 0.2\n",
    "    AND SQRT(1.7*POWER(g.pmra - 1.80, 2) + 0.8*POWER(g.pmdec - 0.37, 2)) <= 1.0\n",
    "\"\"\"\n",
    "print(query)"
   ]
  },
  {
   "cell_type": "code",
   "execution_count": 6,
   "id": "3b7af685-5f47-46aa-a20b-f2696983cfec",
   "metadata": {
    "execution": {
     "iopub.execute_input": "2024-10-22T22:19:14.894899Z",
     "iopub.status.busy": "2024-10-22T22:19:14.894772Z",
     "iopub.status.idle": "2024-10-22T22:19:59.953143Z",
     "shell.execute_reply": "2024-10-22T22:19:59.952545Z",
     "shell.execute_reply.started": "2024-10-22T22:19:14.894889Z"
    },
    "tags": []
   },
   "outputs": [
    {
     "data": {
      "text/plain": [
       "'OK'"
      ]
     },
     "execution_count": 6,
     "metadata": {},
     "output_type": "execute_result"
    }
   ],
   "source": [
    "qc.query(sql=query, out='mydb://skymapperdr4_x_gaiadr3', drop=True, timeout=600)"
   ]
  },
  {
   "cell_type": "code",
   "execution_count": 7,
   "id": "5ff52650-3596-4fcb-92da-c02081a171e0",
   "metadata": {
    "execution": {
     "iopub.execute_input": "2024-10-22T22:19:59.954044Z",
     "iopub.status.busy": "2024-10-22T22:19:59.953895Z",
     "iopub.status.idle": "2024-10-22T22:20:00.665455Z",
     "shell.execute_reply": "2024-10-22T22:20:00.664799Z",
     "shell.execute_reply.started": "2024-10-22T22:19:59.954031Z"
    }
   },
   "outputs": [
    {
     "name": "stdout",
     "output_type": "stream",
     "text": [
      "Number of objects: 1059\n"
     ]
    }
   ],
   "source": [
    "res = qc.query(sql=\"select * from mydb://skymapperdr4_x_gaiadr3\", fmt='pandas', timeout=600)\n",
    "print(f\"Number of objects: {len(res)}\")"
   ]
  },
  {
   "cell_type": "markdown",
   "id": "d5831e02-1bc6-4bdf-8006-ee823ae7392f",
   "metadata": {
    "execution": {
     "iopub.execute_input": "2024-07-17T18:53:54.579514Z",
     "iopub.status.busy": "2024-07-17T18:53:54.579241Z",
     "iopub.status.idle": "2024-07-17T18:53:55.775485Z",
     "shell.execute_reply": "2024-07-17T18:53:55.774827Z",
     "shell.execute_reply.started": "2024-07-17T18:53:54.579499Z"
    }
   },
   "source": [
    "| object_id | disqualified reason       | Rule  |\n",
    "|-----------|---------------------------|-------|\n",
    "| 500263380 | `v_ngood = 1`                | `v_ngood >= 2`   |\n",
    "| 471915910 | `flags = 2048`                | `flags <= 3`   |\n",
    "| 497519424 | `gaia_dr3_dist2 = 1.66`       | `gaia_dr3_dist2 > 7.5`   |\n",
    "| 500382880 | `gaia_dr3_dist2 = 3.1`        | `gaia_dr3_dist2 > 7.5`   |\n",
    "| 500287810 | `g_psf = 16.3745` ; `v_ngood = 1` | `g_psf >= 16.5` ; `v_ngood >= 2`   |\n",
    "| 500766372 | `gaia_dr3_dist2 = 7.15`       | `gaia_dr3_dist2 > 7.5`   |\n",
    "\n",
    "Above: objects from the final selection in the paper that were NOT selected in this notebook for the reasons stated in the table."
   ]
  },
  {
   "cell_type": "markdown",
   "id": "58236b3a-7df8-443b-9990-bace6ba8719e",
   "metadata": {},
   "source": [
    "## Metallicity-sensitive diagram and CMD"
   ]
  },
  {
   "cell_type": "code",
   "execution_count": 8,
   "id": "9a07fc40-ec2d-4f36-b77b-3c01be0e3c45",
   "metadata": {
    "execution": {
     "iopub.execute_input": "2024-10-22T22:20:00.666346Z",
     "iopub.status.busy": "2024-10-22T22:20:00.666199Z",
     "iopub.status.idle": "2024-10-22T22:20:00.675178Z",
     "shell.execute_reply": "2024-10-22T22:20:00.674740Z",
     "shell.execute_reply.started": "2024-10-22T22:20:00.666334Z"
    },
    "tags": []
   },
   "outputs": [],
   "source": [
    "# Extracted X,Y values for Dartmouth isochrones from Figure 1 using https://apps.automeris.io/wpd/\n",
    "### THIS CELL CAN BE DELETED\n",
    "x_FeH_4_mi=[0.70,0.7110,0.7190,0.7271,0.7352,0.7432,0.7513,0.7594,0.7674,0.7755,0.7835,0.7916,0.7997,0.8077,0.8158,0.8239,0.8319,0.8400,0.8480,0.8561,0.8642,0.8722,0.8803,0.8884,0.8964,0.9045,0.9125,0.9206,0.9287,0.9367,0.9448,0.9529,0.9609,0.9690,0.9771,0.9851,0.9932,0.9990]\n",
    "y_FeH_4_mi=[0.01907,0.01959,0.02022,0.02045,0.02137,0.02217,0.02292,0.02378,0.02486,0.02567,0.02647,0.02761,0.02870,0.03001,0.03127,0.03252,0.03400,0.03554,0.03725,0.03868,0.03999,0.04176,0.04347,0.04501,0.04660,0.04831,0.04997,0.05179,0.05322,0.05464,0.05618,0.05783,0.05920,0.06057,0.06189,0.06320,0.06451,0.06570]\n",
    "x_4_mi = np.linspace(0.7,1.0,100)\n",
    "FeH_4_mi = 0.219*(x_4_mi**2) - 0.2053*x_4_mi + 0.0539\n",
    "\n",
    "x_FeH_2_mi =[0.70,0.7120,0.7201,0.7281,0.7362,0.7443,0.7523,0.7604,0.7685,0.7765,0.7846,0.7927,0.8007,0.8088,0.8169,0.8249,0.8330,0.8411,0.8491,0.8572,0.8653,0.8733,0.8814,0.8895,0.8975,0.9056,0.9137,0.9218,0.9298,0.9379,0.9460,0.9540,0.9621,0.9702,0.9783,0.9863,0.9944,1.002,1.011,1.019,1.027,1.035,1.043,1.051,1.059,1.067,1.075,1.083,1.091,1.099,1.107,1.116,1.124,1.132,1.140,1.148,1.156]\n",
    "y_FeH_2_mi = [0.1433,0.1425,0.1423,0.1429,0.1442,0.1463,0.1486,0.1513,0.1545,0.1580,0.1614,0.1646,0.1682,0.1717,0.1754,0.1789,0.1824,0.1861,0.1901,0.1941,0.1980,0.2022,0.2068,0.2113,0.2156,0.2204,0.2251,0.2298,0.2343,0.2393,0.2443,0.2493,0.2544,0.2596,0.2650,0.2704,0.2758,0.2813,0.2868,0.2924,0.2980,0.3037,0.3094,0.3152,0.3211,0.3269,0.3327,0.3386,0.3445,0.3504,0.3564,0.3625,0.3685,0.3747,0.3806,0.3867,0.3924]\n",
    "x_2_mi = np.linspace(0.7,1.2,100)\n",
    "FeH_2_mi = 0.0246*np.exp(2.4172*x_2_mi)\n",
    "\n",
    "x_FeH_4_g = [0.8703927,0.8751304,0.8795037,0.8838770,0.8882502,0.8926235,0.8969968,0.9013700,0.9057433,0.9101165,0.9144898,0.9192275,0.9243297,0.9294318,0.9345339,0.9396361,0.9451027,0.9509337,0.9567647,0.9629602,0.9695201,0.9760799,0.9826398,0.9891997,0.9961241,1.001226]\n",
    "y_FeH_4_g = [16.99999,16.97275,16.95185,16.93184,16.91213,16.89213,16.87256,16.85300,16.83344,16.81447,16.79551,16.77535,16.75427,16.73357,16.71453,16.69638,16.67704,16.65772,16.63840,16.61887,16.59864,16.57931,16.56077,16.54232,16.52300,16.50956]\n",
    "x_4_g = np.linspace(0.7,1.0,100)\n",
    "FeH_4_g = 10.156*(x_4_g**2) - 22.731*x_4_g + 29.089\n",
    "\n",
    "x_FeH_2_g = [0.9684743,0.9757155,0.9811821,0.9866487,0.9924797,0.9983107,1.004142,1.010337,1.016533,1.022728,1.029288,1.035848,1.042772,1.050061,1.057350,1.064639,1.071927,1.079216,1.086505,1.094158,1.102176,1.110193,1.118211,1.126229,1.134246,1.142264,1.150282,1.158299,1.166317,1.174335,1.182352,1.188912]\n",
    "y_FeH_2_g = [16.99899,16.97314,16.95385,16.93449,16.91473,16.89507,16.87575,16.85608,16.83645,16.81769,16.79885,16.78011,16.76079,16.74100,16.72121,16.70168,16.68251,16.66406,16.64498,16.62600,16.60648,16.58696,16.56745,16.54793,16.52842,16.51036,16.49158,16.47352,16.45571,16.43798,16.42065,16.40632]\n",
    "x_2_g = np.linspace(0.7,1.2,100)\n",
    "FeH_2_g = 3.0952*(x_2_g**2) - 9.3219*x_2_g + 23.118"
   ]
  },
  {
   "cell_type": "markdown",
   "id": "0af2a975-7c9a-4d03-aff1-6451f6d3a3ee",
   "metadata": {},
   "source": [
    "#### Equations for isochrones obtained from X,Y values"
   ]
  },
  {
   "cell_type": "code",
   "execution_count": 9,
   "id": "7b16f04e-8174-494f-8254-aeaf5cd8f2ec",
   "metadata": {
    "execution": {
     "iopub.execute_input": "2024-10-22T22:20:00.675976Z",
     "iopub.status.busy": "2024-10-22T22:20:00.675773Z",
     "iopub.status.idle": "2024-10-22T22:20:00.702486Z",
     "shell.execute_reply": "2024-10-22T22:20:00.702046Z",
     "shell.execute_reply.started": "2024-10-22T22:20:00.675965Z"
    }
   },
   "outputs": [],
   "source": [
    "x_2_mi = np.linspace(0.7,1.2,100)\n",
    "FeH_2_mi = 0.0246*np.exp(2.4172*x_2_mi)\n",
    "x_4_mi = np.linspace(0.7,1.0,100)\n",
    "FeH_4_mi = 0.219*(x_4_mi**2) - 0.2053*x_4_mi + 0.0539\n",
    "\n",
    "x_2_g = np.linspace(0.7,1.2,100)\n",
    "FeH_2_g = 3.0952*(x_2_g**2) - 9.3219*x_2_g + 23.118\n",
    "x_4_g = np.linspace(0.7,1.0,100)\n",
    "FeH_4_g = 10.156*(x_4_g**2) - 22.731*x_4_g + 29.089"
   ]
  },
  {
   "cell_type": "markdown",
   "id": "4172f1dd-b788-4dd7-8670-03e523e49a93",
   "metadata": {},
   "source": [
    "#### Select only the objects that are above the [Fe/H]=-2 Dartmouth isochrone"
   ]
  },
  {
   "cell_type": "code",
   "execution_count": 10,
   "id": "3b9dd0f9-0713-4a0d-8634-45b72108559c",
   "metadata": {
    "execution": {
     "iopub.execute_input": "2024-10-22T22:20:00.703192Z",
     "iopub.status.busy": "2024-10-22T22:20:00.703064Z",
     "iopub.status.idle": "2024-10-22T22:20:00.729168Z",
     "shell.execute_reply": "2024-10-22T22:20:00.728500Z",
     "shell.execute_reply.started": "2024-10-22T22:20:00.703181Z"
    }
   },
   "outputs": [
    {
     "name": "stdout",
     "output_type": "stream",
     "text": [
      "Final EMP candidate count: 243\n"
     ]
    }
   ],
   "source": [
    "c1 = res['metallicity'] < np.interp(res['g_i0'], x_2_mi, FeH_2_mi)\n",
    "count=0\n",
    "for i in c1:\n",
    "    if i is True:\n",
    "        count = count+1\n",
    "print(f\"Final EMP candidate count: {count}\")"
   ]
  },
  {
   "cell_type": "code",
   "execution_count": 11,
   "id": "eb27cf3b-c5df-47f8-84ba-5c924c6b1494",
   "metadata": {
    "execution": {
     "iopub.execute_input": "2024-10-22T22:20:00.729874Z",
     "iopub.status.busy": "2024-10-22T22:20:00.729693Z",
     "iopub.status.idle": "2024-10-22T22:20:00.901033Z",
     "shell.execute_reply": "2024-10-22T22:20:00.900474Z",
     "shell.execute_reply.started": "2024-10-22T22:20:00.729863Z"
    },
    "tags": []
   },
   "outputs": [
    {
     "data": {
      "image/png": "[encoded data removed]",
      "text/plain": [
       "<Figure size 800x600 with 1 Axes>"
      ]
     },
     "metadata": {},
     "output_type": "display_data"
    }
   ],
   "source": [
    "plt.figure(figsize=(8,6))\n",
    "plt.plot(res['g_i0'][c1],res['metallicity'][c1],'y.',label='EMP candidates')\n",
    "plt.plot(x_4_mi,FeH_4_mi,'b-',label='[Fe/H]=-4 isochrone')\n",
    "plt.plot(x_2_mi,FeH_2_mi,'k-',label='[Fe/H]=-2 isochrone')\n",
    "plt.xlim(0.7,1.23)\n",
    "plt.ylim(0.4,-0.3) # Figure 1 has these limits\n",
    "plt.ylabel('$m_i$')\n",
    "plt.xlabel('$(g - i)_0$')\n",
    "plt.legend(loc='upper right')\n",
    "plt.show()"
   ]
  },
  {
   "cell_type": "markdown",
   "id": "a720ca51-6f45-4ca1-8eb4-4668bf9c96d4",
   "metadata": {},
   "source": [
    "Metallicity-sensitive diagram showing the Magellanic EMP candidates from our final adopted selection. The blue and black curves represent [Fe/H] = −4 and −2 Dartmouth isochrones for an age of 12.5 Gyr and $[\\alpha/Fe]=0.4$ ([Dotter et al. 2008](https://ui.adsabs.harvard.edu/abs/2008ApJS..178...89D/abstract)). Both isochrones have been calibrated with reference to the SkyMapper DR3 data as described in [Da Costa et al. (2019)](https://academic.oup.com/mnras/article/489/4/5900/5568381?login=false). The upper (positive) bound on the metallicity index selection was set by the location of the [Fe/H]=-2 Dartmouth isochrone for an age of 12.5 Gyr and $[\\alpha/H]=0.4$ ([Dotter et al. 2008](https://ui.adsabs.harvard.edu/abs/2008ApJS..178...89D/abstract))."
   ]
  },
  {
   "cell_type": "code",
   "execution_count": 12,
   "id": "b8104333-a98d-4adf-ae16-664772f5c247",
   "metadata": {
    "execution": {
     "iopub.execute_input": "2024-10-22T22:20:00.901913Z",
     "iopub.status.busy": "2024-10-22T22:20:00.901756Z",
     "iopub.status.idle": "2024-10-22T22:20:01.005948Z",
     "shell.execute_reply": "2024-10-22T22:20:01.005405Z",
     "shell.execute_reply.started": "2024-10-22T22:20:00.901900Z"
    }
   },
   "outputs": [
    {
     "data": {
      "image/png": "[encoded data removed]",
      "text/plain": [
       "<Figure size 800x600 with 1 Axes>"
      ]
     },
     "metadata": {},
     "output_type": "display_data"
    }
   ],
   "source": [
    "plt.figure(figsize=(8,6))\n",
    "plt.plot(res['g_i0'][c1],res['g0'][c1],'y.',label='EMP candidates')\n",
    "plt.plot(x_4_g,FeH_4_g,'b-',label='[Fe/H]=-4 isochrone')\n",
    "plt.plot(x_2_g,FeH_2_g,'k-',label='[Fe/H]=-2 isochrone')\n",
    "plt.xlim(0.7,1.23)\n",
    "plt.ylim(17.0, 16.0) # Figure 1 has these limits\n",
    "plt.ylabel('$g_0$')\n",
    "plt.xlabel('$(g - i)_0$')\n",
    "plt.legend(loc='upper right')\n",
    "plt.show()"
   ]
  },
  {
   "cell_type": "markdown",
   "id": "02e4c8dc-57fa-45c5-9d86-202f426cf77c",
   "metadata": {},
   "source": [
    "CMD showing the Magellanic EMP candidates from our final adopted selection. The blue and black curves represent [Fe/H] = −4 and −2 Dartmouth isochrones for an age of 12.5 Gyr and $[\\alpha/Fe]=0.4$ ([Dotter et al. 2008](https://ui.adsabs.harvard.edu/abs/2008ApJS..178...89D/abstract)). Both isochrones have been calibrated with reference to the SkyMapper DR3 data as described in [Da Costa et al. (2019)](https://academic.oup.com/mnras/article/489/4/5900/5568381?login=false). The isochrones have been shifted in distance modulus by 18.5 to match the LMC distance."
   ]
  },
  {
   "cell_type": "markdown",
   "id": "2a91ca33-344a-45bb-9736-60ec1aba6d86",
   "metadata": {},
   "source": [
    "## Radial velocity vs position angle\n",
    "Here we obtain the radial velocity values from the `sdss_dr17.apogee2_allstar` table"
   ]
  },
  {
   "cell_type": "code",
   "execution_count": 13,
   "id": "c3770f83-d74e-44d4-ba54-be41e419db29",
   "metadata": {
    "execution": {
     "iopub.execute_input": "2024-10-22T22:20:01.007955Z",
     "iopub.status.busy": "2024-10-22T22:20:01.007803Z",
     "iopub.status.idle": "2024-10-22T22:20:01.010961Z",
     "shell.execute_reply": "2024-10-22T22:20:01.010485Z",
     "shell.execute_reply.started": "2024-10-22T22:20:01.007943Z"
    }
   },
   "outputs": [
    {
     "name": "stdout",
     "output_type": "stream",
     "text": [
      "\n",
      "SELECT\n",
      "    S.*, A.hrv, A.rv_feh, A.teff, A.logg, A.rv_teff, A.rv_logg\n",
      "FROM\n",
      "    mydb://skymapperdr4_x_gaiadr3 AS S\n",
      "JOIN\n",
      "    sdss_dr17.apogee2_allstar AS A ON S.gaia_id = A.gaiaedr3_source_id\n",
      "\n"
     ]
    }
   ],
   "source": [
    "query_rv = \"\"\"\n",
    "SELECT\n",
    "    S.*, A.hrv, A.rv_feh, A.teff, A.logg, A.rv_teff, A.rv_logg\n",
    "FROM\n",
    "    mydb://skymapperdr4_x_gaiadr3 AS S\n",
    "JOIN\n",
    "    sdss_dr17.apogee2_allstar AS A ON S.gaia_id = A.gaiaedr3_source_id\n",
    "\"\"\"\n",
    "print(query_rv)"
   ]
  },
  {
   "cell_type": "code",
   "execution_count": 14,
   "id": "d8cd0941-25f5-4380-86d1-dbb5f9184c71",
   "metadata": {
    "execution": {
     "iopub.execute_input": "2024-10-22T22:20:01.011660Z",
     "iopub.status.busy": "2024-10-22T22:20:01.011535Z",
     "iopub.status.idle": "2024-10-22T22:20:02.182624Z",
     "shell.execute_reply": "2024-10-22T22:20:02.182048Z",
     "shell.execute_reply.started": "2024-10-22T22:20:01.011650Z"
    }
   },
   "outputs": [
    {
     "data": {
      "text/plain": [
       "'OK'"
      ]
     },
     "execution_count": 14,
     "metadata": {},
     "output_type": "execute_result"
    }
   ],
   "source": [
    "qc.query(sql=query_rv, out='mydb://skymapperdr4_x_gaiadr3_x_apogee2', drop=True, timeout=600)"
   ]
  },
  {
   "cell_type": "code",
   "execution_count": 15,
   "id": "3cd5470d-5673-4833-bb53-3f5a6861b610",
   "metadata": {
    "execution": {
     "iopub.execute_input": "2024-10-22T22:20:02.183491Z",
     "iopub.status.busy": "2024-10-22T22:20:02.183346Z",
     "iopub.status.idle": "2024-10-22T22:20:02.828469Z",
     "shell.execute_reply": "2024-10-22T22:20:02.827823Z",
     "shell.execute_reply.started": "2024-10-22T22:20:02.183480Z"
    }
   },
   "outputs": [
    {
     "data": {
      "text/html": [
       "<div>\n",
       "<style scoped>\n",
       "    .dataframe tbody tr th:only-of-type {\n",
       "        vertical-align: middle;\n",
       "    }\n",
       "\n",
       "    .dataframe tbody tr th {\n",
       "        vertical-align: top;\n",
       "    }\n",
       "\n",
       "    .dataframe thead th {\n",
       "        text-align: right;\n",
       "    }\n",
       "</style>\n",
       "<table border=\"1\" class=\"dataframe\">\n",
       "  <thead>\n",
       "    <tr style=\"text-align: right;\">\n",
       "      <th></th>\n",
       "      <th>smss_id</th>\n",
       "      <th>gaia_id</th>\n",
       "      <th>ra</th>\n",
       "      <th>dec</th>\n",
       "      <th>g_psf</th>\n",
       "      <th>i_psf</th>\n",
       "      <th>v_psf</th>\n",
       "      <th>g_i0</th>\n",
       "      <th>g0</th>\n",
       "      <th>v_g0</th>\n",
       "      <th>...</th>\n",
       "      <th>angle</th>\n",
       "      <th>parallax</th>\n",
       "      <th>pmra</th>\n",
       "      <th>pmdec</th>\n",
       "      <th>hrv</th>\n",
       "      <th>rv_feh</th>\n",
       "      <th>teff</th>\n",
       "      <th>logg</th>\n",
       "      <th>rv_teff</th>\n",
       "      <th>rv_logg</th>\n",
       "    </tr>\n",
       "  </thead>\n",
       "  <tbody>\n",
       "    <tr>\n",
       "      <th>0</th>\n",
       "      <td>462684998</td>\n",
       "      <td>5260725503217798144</td>\n",
       "      <td>96.404624</td>\n",
       "      <td>-75.905938</td>\n",
       "      <td>17.0498</td>\n",
       "      <td>16.1668</td>\n",
       "      <td>18.8146</td>\n",
       "      <td>0.756251</td>\n",
       "      <td>16.797484</td>\n",
       "      <td>1.676919</td>\n",
       "      <td>...</td>\n",
       "      <td>-67.950538</td>\n",
       "      <td>0.189620</td>\n",
       "      <td>1.481980</td>\n",
       "      <td>1.325902</td>\n",
       "      <td>214.2744</td>\n",
       "      <td>-0.9478</td>\n",
       "      <td>4776.4</td>\n",
       "      <td>2.473</td>\n",
       "      <td>4912.28</td>\n",
       "      <td>3.136060</td>\n",
       "    </tr>\n",
       "    <tr>\n",
       "      <th>1</th>\n",
       "      <td>464286279</td>\n",
       "      <td>5261494783400104192</td>\n",
       "      <td>95.097942</td>\n",
       "      <td>-75.667642</td>\n",
       "      <td>16.9479</td>\n",
       "      <td>15.8485</td>\n",
       "      <td>18.6335</td>\n",
       "      <td>0.970551</td>\n",
       "      <td>16.691403</td>\n",
       "      <td>1.596262</td>\n",
       "      <td>...</td>\n",
       "      <td>-66.921789</td>\n",
       "      <td>-0.013830</td>\n",
       "      <td>1.704686</td>\n",
       "      <td>1.022928</td>\n",
       "      <td>277.5191</td>\n",
       "      <td>-2.5000</td>\n",
       "      <td>4559.4</td>\n",
       "      <td>0.887</td>\n",
       "      <td>4510.79</td>\n",
       "      <td>1.647123</td>\n",
       "    </tr>\n",
       "    <tr>\n",
       "      <th>2</th>\n",
       "      <td>464605314</td>\n",
       "      <td>5281655944004539264</td>\n",
       "      <td>103.494390</td>\n",
       "      <td>-67.154899</td>\n",
       "      <td>16.5460</td>\n",
       "      <td>15.3105</td>\n",
       "      <td>18.4580</td>\n",
       "      <td>1.083249</td>\n",
       "      <td>16.242921</td>\n",
       "      <td>1.806441</td>\n",
       "      <td>...</td>\n",
       "      <td>83.260544</td>\n",
       "      <td>0.027971</td>\n",
       "      <td>1.399954</td>\n",
       "      <td>1.169490</td>\n",
       "      <td>330.2869</td>\n",
       "      <td>-2.4240</td>\n",
       "      <td>4500.1</td>\n",
       "      <td>0.694</td>\n",
       "      <td>4464.59</td>\n",
       "      <td>1.345082</td>\n",
       "    </tr>\n",
       "    <tr>\n",
       "      <th>3</th>\n",
       "      <td>464781416</td>\n",
       "      <td>5284893971387283456</td>\n",
       "      <td>99.331650</td>\n",
       "      <td>-64.126203</td>\n",
       "      <td>16.5350</td>\n",
       "      <td>15.3888</td>\n",
       "      <td>18.3093</td>\n",
       "      <td>1.053050</td>\n",
       "      <td>16.349569</td>\n",
       "      <td>1.709716</td>\n",
       "      <td>...</td>\n",
       "      <td>72.609385</td>\n",
       "      <td>0.033367</td>\n",
       "      <td>1.764923</td>\n",
       "      <td>1.079426</td>\n",
       "      <td>331.0191</td>\n",
       "      <td>-2.1670</td>\n",
       "      <td>4491.1</td>\n",
       "      <td>0.661</td>\n",
       "      <td>4494.06</td>\n",
       "      <td>1.477748</td>\n",
       "    </tr>\n",
       "    <tr>\n",
       "      <th>4</th>\n",
       "      <td>464795749</td>\n",
       "      <td>5477109391564157952</td>\n",
       "      <td>98.466843</td>\n",
       "      <td>-63.657704</td>\n",
       "      <td>17.2016</td>\n",
       "      <td>16.2016</td>\n",
       "      <td>18.9175</td>\n",
       "      <td>0.904900</td>\n",
       "      <td>17.012287</td>\n",
       "      <td>1.649964</td>\n",
       "      <td>...</td>\n",
       "      <td>70.393088</td>\n",
       "      <td>0.045120</td>\n",
       "      <td>1.610301</td>\n",
       "      <td>1.019161</td>\n",
       "      <td>323.5758</td>\n",
       "      <td>-2.0270</td>\n",
       "      <td>4660.4</td>\n",
       "      <td>1.310</td>\n",
       "      <td>4628.59</td>\n",
       "      <td>2.013458</td>\n",
       "    </tr>\n",
       "    <tr>\n",
       "      <th>5</th>\n",
       "      <td>464789936</td>\n",
       "      <td>5284934756396797184</td>\n",
       "      <td>98.446875</td>\n",
       "      <td>-64.062684</td>\n",
       "      <td>17.3337</td>\n",
       "      <td>16.3681</td>\n",
       "      <td>18.7093</td>\n",
       "      <td>0.869601</td>\n",
       "      <td>17.142596</td>\n",
       "      <td>1.309039</td>\n",
       "      <td>...</td>\n",
       "      <td>71.579998</td>\n",
       "      <td>-0.027780</td>\n",
       "      <td>1.539075</td>\n",
       "      <td>1.059221</td>\n",
       "      <td>320.2577</td>\n",
       "      <td>-2.5000</td>\n",
       "      <td>4683.3</td>\n",
       "      <td>1.094</td>\n",
       "      <td>4628.92</td>\n",
       "      <td>2.466324</td>\n",
       "    </tr>\n",
       "    <tr>\n",
       "      <th>6</th>\n",
       "      <td>464797583</td>\n",
       "      <td>5477182302928881024</td>\n",
       "      <td>98.127155</td>\n",
       "      <td>-63.308821</td>\n",
       "      <td>16.9294</td>\n",
       "      <td>16.1105</td>\n",
       "      <td>18.4794</td>\n",
       "      <td>0.729499</td>\n",
       "      <td>16.751434</td>\n",
       "      <td>1.488017</td>\n",
       "      <td>...</td>\n",
       "      <td>68.987664</td>\n",
       "      <td>0.042267</td>\n",
       "      <td>1.951489</td>\n",
       "      <td>0.021114</td>\n",
       "      <td>150.6798</td>\n",
       "      <td>-1.0435</td>\n",
       "      <td>4872.4</td>\n",
       "      <td>2.322</td>\n",
       "      <td>5076.90</td>\n",
       "      <td>3.167504</td>\n",
       "    </tr>\n",
       "    <tr>\n",
       "      <th>7</th>\n",
       "      <td>464798479</td>\n",
       "      <td>5477154604682965888</td>\n",
       "      <td>97.918629</td>\n",
       "      <td>-63.645246</td>\n",
       "      <td>17.2324</td>\n",
       "      <td>16.3008</td>\n",
       "      <td>18.6310</td>\n",
       "      <td>0.843551</td>\n",
       "      <td>17.057123</td>\n",
       "      <td>1.337552</td>\n",
       "      <td>...</td>\n",
       "      <td>69.760792</td>\n",
       "      <td>0.024576</td>\n",
       "      <td>1.515690</td>\n",
       "      <td>0.943366</td>\n",
       "      <td>349.5936</td>\n",
       "      <td>-2.3689</td>\n",
       "      <td>4757.9</td>\n",
       "      <td>1.615</td>\n",
       "      <td>4655.95</td>\n",
       "      <td>1.916760</td>\n",
       "    </tr>\n",
       "    <tr>\n",
       "      <th>8</th>\n",
       "      <td>490840412</td>\n",
       "      <td>4623182962981075968</td>\n",
       "      <td>84.986273</td>\n",
       "      <td>-79.683403</td>\n",
       "      <td>16.7782</td>\n",
       "      <td>15.8998</td>\n",
       "      <td>18.4227</td>\n",
       "      <td>0.739800</td>\n",
       "      <td>16.502294</td>\n",
       "      <td>1.548405</td>\n",
       "      <td>...</td>\n",
       "      <td>-20.517978</td>\n",
       "      <td>0.003405</td>\n",
       "      <td>1.254946</td>\n",
       "      <td>0.245479</td>\n",
       "      <td>85.4528</td>\n",
       "      <td>-1.3109</td>\n",
       "      <td>NaN</td>\n",
       "      <td>NaN</td>\n",
       "      <td>4886.87</td>\n",
       "      <td>2.803806</td>\n",
       "    </tr>\n",
       "    <tr>\n",
       "      <th>9</th>\n",
       "      <td>491449548</td>\n",
       "      <td>4637858591353195776</td>\n",
       "      <td>25.697951</td>\n",
       "      <td>-74.749972</td>\n",
       "      <td>16.8687</td>\n",
       "      <td>15.8563</td>\n",
       "      <td>18.5799</td>\n",
       "      <td>0.933050</td>\n",
       "      <td>16.710741</td>\n",
       "      <td>1.656185</td>\n",
       "      <td>...</td>\n",
       "      <td>84.890380</td>\n",
       "      <td>0.047090</td>\n",
       "      <td>1.407164</td>\n",
       "      <td>-0.387177</td>\n",
       "      <td>201.3016</td>\n",
       "      <td>-1.4780</td>\n",
       "      <td>4655.6</td>\n",
       "      <td>1.826</td>\n",
       "      <td>4654.75</td>\n",
       "      <td>2.453694</td>\n",
       "    </tr>\n",
       "    <tr>\n",
       "      <th>10</th>\n",
       "      <td>497183494</td>\n",
       "      <td>4668115635225166208</td>\n",
       "      <td>63.325454</td>\n",
       "      <td>-68.140073</td>\n",
       "      <td>16.9779</td>\n",
       "      <td>16.0375</td>\n",
       "      <td>18.6251</td>\n",
       "      <td>0.883999</td>\n",
       "      <td>16.865626</td>\n",
       "      <td>1.608096</td>\n",
       "      <td>...</td>\n",
       "      <td>-84.781216</td>\n",
       "      <td>0.013792</td>\n",
       "      <td>1.632761</td>\n",
       "      <td>-0.302664</td>\n",
       "      <td>240.8723</td>\n",
       "      <td>-1.3618</td>\n",
       "      <td>4723.8</td>\n",
       "      <td>1.457</td>\n",
       "      <td>4816.51</td>\n",
       "      <td>2.299056</td>\n",
       "    </tr>\n",
       "    <tr>\n",
       "      <th>11</th>\n",
       "      <td>497248778</td>\n",
       "      <td>4666774372773583616</td>\n",
       "      <td>60.919285</td>\n",
       "      <td>-68.613907</td>\n",
       "      <td>16.5693</td>\n",
       "      <td>15.5087</td>\n",
       "      <td>18.5692</td>\n",
       "      <td>0.909549</td>\n",
       "      <td>16.268610</td>\n",
       "      <td>1.895173</td>\n",
       "      <td>...</td>\n",
       "      <td>-86.722153</td>\n",
       "      <td>0.049652</td>\n",
       "      <td>1.738612</td>\n",
       "      <td>0.030195</td>\n",
       "      <td>235.7405</td>\n",
       "      <td>-1.1887</td>\n",
       "      <td>4584.8</td>\n",
       "      <td>1.715</td>\n",
       "      <td>4705.51</td>\n",
       "      <td>2.726760</td>\n",
       "    </tr>\n",
       "    <tr>\n",
       "      <th>12</th>\n",
       "      <td>497248435</td>\n",
       "      <td>4666767397746722048</td>\n",
       "      <td>61.059729</td>\n",
       "      <td>-68.814352</td>\n",
       "      <td>16.5529</td>\n",
       "      <td>15.4356</td>\n",
       "      <td>18.3635</td>\n",
       "      <td>0.886600</td>\n",
       "      <td>16.093654</td>\n",
       "      <td>1.650648</td>\n",
       "      <td>...</td>\n",
       "      <td>-87.265835</td>\n",
       "      <td>0.037093</td>\n",
       "      <td>1.969757</td>\n",
       "      <td>-0.615522</td>\n",
       "      <td>146.7677</td>\n",
       "      <td>-1.5560</td>\n",
       "      <td>4712.1</td>\n",
       "      <td>1.617</td>\n",
       "      <td>4759.94</td>\n",
       "      <td>2.395424</td>\n",
       "    </tr>\n",
       "    <tr>\n",
       "      <th>13</th>\n",
       "      <td>497473322</td>\n",
       "      <td>4668807438494420096</td>\n",
       "      <td>66.032959</td>\n",
       "      <td>-65.938631</td>\n",
       "      <td>16.9063</td>\n",
       "      <td>15.7797</td>\n",
       "      <td>18.7103</td>\n",
       "      <td>1.064799</td>\n",
       "      <td>16.783276</td>\n",
       "      <td>1.761153</td>\n",
       "      <td>...</td>\n",
       "      <td>-75.859085</td>\n",
       "      <td>-0.099580</td>\n",
       "      <td>1.850740</td>\n",
       "      <td>0.188396</td>\n",
       "      <td>200.8456</td>\n",
       "      <td>-2.2955</td>\n",
       "      <td>4523.9</td>\n",
       "      <td>1.051</td>\n",
       "      <td>4508.75</td>\n",
       "      <td>1.579093</td>\n",
       "    </tr>\n",
       "    <tr>\n",
       "      <th>14</th>\n",
       "      <td>497734463</td>\n",
       "      <td>4676585521187526400</td>\n",
       "      <td>65.114493</td>\n",
       "      <td>-62.387615</td>\n",
       "      <td>16.7419</td>\n",
       "      <td>15.9949</td>\n",
       "      <td>18.1350</td>\n",
       "      <td>0.709200</td>\n",
       "      <td>16.666652</td>\n",
       "      <td>1.366893</td>\n",
       "      <td>...</td>\n",
       "      <td>-65.425679</td>\n",
       "      <td>0.044153</td>\n",
       "      <td>2.339557</td>\n",
       "      <td>0.095943</td>\n",
       "      <td>238.7061</td>\n",
       "      <td>-1.4074</td>\n",
       "      <td>4891.1</td>\n",
       "      <td>2.351</td>\n",
       "      <td>4920.90</td>\n",
       "      <td>2.870291</td>\n",
       "    </tr>\n",
       "    <tr>\n",
       "      <th>15</th>\n",
       "      <td>500170206</td>\n",
       "      <td>4758846239534010368</td>\n",
       "      <td>88.049112</td>\n",
       "      <td>-60.501934</td>\n",
       "      <td>16.9145</td>\n",
       "      <td>15.9283</td>\n",
       "      <td>18.5255</td>\n",
       "      <td>0.881949</td>\n",
       "      <td>16.706972</td>\n",
       "      <td>1.538720</td>\n",
       "      <td>...</td>\n",
       "      <td>36.113826</td>\n",
       "      <td>0.070185</td>\n",
       "      <td>1.749057</td>\n",
       "      <td>0.380939</td>\n",
       "      <td>311.2862</td>\n",
       "      <td>-2.4823</td>\n",
       "      <td>4650.8</td>\n",
       "      <td>1.365</td>\n",
       "      <td>4535.95</td>\n",
       "      <td>1.803162</td>\n",
       "    </tr>\n",
       "    <tr>\n",
       "      <th>16</th>\n",
       "      <td>500206265</td>\n",
       "      <td>4759033087791123328</td>\n",
       "      <td>85.898124</td>\n",
       "      <td>-59.845313</td>\n",
       "      <td>16.6240</td>\n",
       "      <td>15.5182</td>\n",
       "      <td>18.3035</td>\n",
       "      <td>1.017601</td>\n",
       "      <td>16.448424</td>\n",
       "      <td>1.618347</td>\n",
       "      <td>...</td>\n",
       "      <td>24.931288</td>\n",
       "      <td>-0.049483</td>\n",
       "      <td>1.729525</td>\n",
       "      <td>0.364796</td>\n",
       "      <td>287.0577</td>\n",
       "      <td>-2.5000</td>\n",
       "      <td>4696.6</td>\n",
       "      <td>1.331</td>\n",
       "      <td>4537.53</td>\n",
       "      <td>1.242746</td>\n",
       "    </tr>\n",
       "    <tr>\n",
       "      <th>17</th>\n",
       "      <td>500667086</td>\n",
       "      <td>4761510356207513472</td>\n",
       "      <td>74.818798</td>\n",
       "      <td>-61.316905</td>\n",
       "      <td>16.9579</td>\n",
       "      <td>15.9654</td>\n",
       "      <td>18.5951</td>\n",
       "      <td>0.956949</td>\n",
       "      <td>16.887131</td>\n",
       "      <td>1.612553</td>\n",
       "      <td>...</td>\n",
       "      <td>-37.360147</td>\n",
       "      <td>-0.003957</td>\n",
       "      <td>2.036007</td>\n",
       "      <td>-0.057850</td>\n",
       "      <td>262.9118</td>\n",
       "      <td>-2.1050</td>\n",
       "      <td>4632.6</td>\n",
       "      <td>1.170</td>\n",
       "      <td>4582.79</td>\n",
       "      <td>1.742599</td>\n",
       "    </tr>\n",
       "    <tr>\n",
       "      <th>18</th>\n",
       "      <td>500683582</td>\n",
       "      <td>4761554680269968256</td>\n",
       "      <td>74.483311</td>\n",
       "      <td>-60.919817</td>\n",
       "      <td>16.7655</td>\n",
       "      <td>15.9830</td>\n",
       "      <td>18.2515</td>\n",
       "      <td>0.751299</td>\n",
       "      <td>16.703390</td>\n",
       "      <td>1.464368</td>\n",
       "      <td>...</td>\n",
       "      <td>-37.491987</td>\n",
       "      <td>-0.001137</td>\n",
       "      <td>1.327753</td>\n",
       "      <td>0.344056</td>\n",
       "      <td>350.9509</td>\n",
       "      <td>-1.4133</td>\n",
       "      <td>4834.3</td>\n",
       "      <td>1.601</td>\n",
       "      <td>4947.90</td>\n",
       "      <td>2.532795</td>\n",
       "    </tr>\n",
       "    <tr>\n",
       "      <th>19</th>\n",
       "      <td>500689048</td>\n",
       "      <td>4761665799663925376</td>\n",
       "      <td>74.293153</td>\n",
       "      <td>-60.388882</td>\n",
       "      <td>16.9466</td>\n",
       "      <td>15.8218</td>\n",
       "      <td>18.8867</td>\n",
       "      <td>1.091050</td>\n",
       "      <td>16.879415</td>\n",
       "      <td>1.916700</td>\n",
       "      <td>...</td>\n",
       "      <td>-36.648679</td>\n",
       "      <td>0.006997</td>\n",
       "      <td>1.712002</td>\n",
       "      <td>-0.273816</td>\n",
       "      <td>247.2861</td>\n",
       "      <td>-1.7558</td>\n",
       "      <td>4484.5</td>\n",
       "      <td>1.045</td>\n",
       "      <td>4545.90</td>\n",
       "      <td>2.015718</td>\n",
       "    </tr>\n",
       "    <tr>\n",
       "      <th>20</th>\n",
       "      <td>500709739</td>\n",
       "      <td>4761729365178850304</td>\n",
       "      <td>73.688635</td>\n",
       "      <td>-60.685900</td>\n",
       "      <td>16.7327</td>\n",
       "      <td>15.6699</td>\n",
       "      <td>18.8754</td>\n",
       "      <td>1.028450</td>\n",
       "      <td>16.664321</td>\n",
       "      <td>2.118884</td>\n",
       "      <td>...</td>\n",
       "      <td>-39.853682</td>\n",
       "      <td>-0.028271</td>\n",
       "      <td>1.852413</td>\n",
       "      <td>-0.185419</td>\n",
       "      <td>258.9194</td>\n",
       "      <td>-1.1131</td>\n",
       "      <td>4485.4</td>\n",
       "      <td>1.369</td>\n",
       "      <td>4660.60</td>\n",
       "      <td>2.697166</td>\n",
       "    </tr>\n",
       "    <tr>\n",
       "      <th>21</th>\n",
       "      <td>500713258</td>\n",
       "      <td>4761818185103747840</td>\n",
       "      <td>73.069566</td>\n",
       "      <td>-60.361788</td>\n",
       "      <td>16.5991</td>\n",
       "      <td>15.4731</td>\n",
       "      <td>18.6793</td>\n",
       "      <td>1.088500</td>\n",
       "      <td>16.524450</td>\n",
       "      <td>2.054200</td>\n",
       "      <td>...</td>\n",
       "      <td>-41.080663</td>\n",
       "      <td>-0.015570</td>\n",
       "      <td>2.108742</td>\n",
       "      <td>0.259167</td>\n",
       "      <td>252.4977</td>\n",
       "      <td>-1.8703</td>\n",
       "      <td>4449.1</td>\n",
       "      <td>1.096</td>\n",
       "      <td>4449.58</td>\n",
       "      <td>2.027807</td>\n",
       "    </tr>\n",
       "    <tr>\n",
       "      <th>22</th>\n",
       "      <td>500715162</td>\n",
       "      <td>4761865257945059840</td>\n",
       "      <td>74.250454</td>\n",
       "      <td>-60.037157</td>\n",
       "      <td>17.1619</td>\n",
       "      <td>16.0720</td>\n",
       "      <td>19.0721</td>\n",
       "      <td>1.049099</td>\n",
       "      <td>17.080680</td>\n",
       "      <td>1.881912</td>\n",
       "      <td>...</td>\n",
       "      <td>-35.810776</td>\n",
       "      <td>-0.026969</td>\n",
       "      <td>1.759223</td>\n",
       "      <td>-0.071629</td>\n",
       "      <td>250.3018</td>\n",
       "      <td>-1.7318</td>\n",
       "      <td>4418.2</td>\n",
       "      <td>1.155</td>\n",
       "      <td>4423.00</td>\n",
       "      <td>1.931705</td>\n",
       "    </tr>\n",
       "    <tr>\n",
       "      <th>23</th>\n",
       "      <td>500711771</td>\n",
       "      <td>4761783687926532224</td>\n",
       "      <td>72.779029</td>\n",
       "      <td>-60.740575</td>\n",
       "      <td>17.1711</td>\n",
       "      <td>16.3991</td>\n",
       "      <td>18.5742</td>\n",
       "      <td>0.729101</td>\n",
       "      <td>17.085701</td>\n",
       "      <td>1.373355</td>\n",
       "      <td>...</td>\n",
       "      <td>-43.241690</td>\n",
       "      <td>0.045663</td>\n",
       "      <td>1.573310</td>\n",
       "      <td>-0.200920</td>\n",
       "      <td>192.8244</td>\n",
       "      <td>-1.4305</td>\n",
       "      <td>4759.2</td>\n",
       "      <td>2.129</td>\n",
       "      <td>4876.36</td>\n",
       "      <td>2.734423</td>\n",
       "    </tr>\n",
       "  </tbody>\n",
       "</table>\n",
       "<p>24 rows × 23 columns</p>\n",
       "</div>"
      ],
      "text/plain": [
       "      smss_id              gaia_id          ra        dec    g_psf    i_psf  \\\n",
       "0   462684998  5260725503217798144   96.404624 -75.905938  17.0498  16.1668   \n",
       "1   464286279  5261494783400104192   95.097942 -75.667642  16.9479  15.8485   \n",
       "2   464605314  5281655944004539264  103.494390 -67.154899  16.5460  15.3105   \n",
       "3   464781416  5284893971387283456   99.331650 -64.126203  16.5350  15.3888   \n",
       "4   464795749  5477109391564157952   98.466843 -63.657704  17.2016  16.2016   \n",
       "5   464789936  5284934756396797184   98.446875 -64.062684  17.3337  16.3681   \n",
       "6   464797583  5477182302928881024   98.127155 -63.308821  16.9294  16.1105   \n",
       "7   464798479  5477154604682965888   97.918629 -63.645246  17.2324  16.3008   \n",
       "8   490840412  4623182962981075968   84.986273 -79.683403  16.7782  15.8998   \n",
       "9   491449548  4637858591353195776   25.697951 -74.749972  16.8687  15.8563   \n",
       "10  497183494  4668115635225166208   63.325454 -68.140073  16.9779  16.0375   \n",
       "11  497248778  4666774372773583616   60.919285 -68.613907  16.5693  15.5087   \n",
       "12  497248435  4666767397746722048   61.059729 -68.814352  16.5529  15.4356   \n",
       "13  497473322  4668807438494420096   66.032959 -65.938631  16.9063  15.7797   \n",
       "14  497734463  4676585521187526400   65.114493 -62.387615  16.7419  15.9949   \n",
       "15  500170206  4758846239534010368   88.049112 -60.501934  16.9145  15.9283   \n",
       "16  500206265  4759033087791123328   85.898124 -59.845313  16.6240  15.5182   \n",
       "17  500667086  4761510356207513472   74.818798 -61.316905  16.9579  15.9654   \n",
       "18  500683582  4761554680269968256   74.483311 -60.919817  16.7655  15.9830   \n",
       "19  500689048  4761665799663925376   74.293153 -60.388882  16.9466  15.8218   \n",
       "20  500709739  4761729365178850304   73.688635 -60.685900  16.7327  15.6699   \n",
       "21  500713258  4761818185103747840   73.069566 -60.361788  16.5991  15.4731   \n",
       "22  500715162  4761865257945059840   74.250454 -60.037157  17.1619  16.0720   \n",
       "23  500711771  4761783687926532224   72.779029 -60.740575  17.1711  16.3991   \n",
       "\n",
       "      v_psf      g_i0         g0      v_g0  ...      angle  parallax  \\\n",
       "0   18.8146  0.756251  16.797484  1.676919  ... -67.950538  0.189620   \n",
       "1   18.6335  0.970551  16.691403  1.596262  ... -66.921789 -0.013830   \n",
       "2   18.4580  1.083249  16.242921  1.806441  ...  83.260544  0.027971   \n",
       "3   18.3093  1.053050  16.349569  1.709716  ...  72.609385  0.033367   \n",
       "4   18.9175  0.904900  17.012287  1.649964  ...  70.393088  0.045120   \n",
       "5   18.7093  0.869601  17.142596  1.309039  ...  71.579998 -0.027780   \n",
       "6   18.4794  0.729499  16.751434  1.488017  ...  68.987664  0.042267   \n",
       "7   18.6310  0.843551  17.057123  1.337552  ...  69.760792  0.024576   \n",
       "8   18.4227  0.739800  16.502294  1.548405  ... -20.517978  0.003405   \n",
       "9   18.5799  0.933050  16.710741  1.656185  ...  84.890380  0.047090   \n",
       "10  18.6251  0.883999  16.865626  1.608096  ... -84.781216  0.013792   \n",
       "11  18.5692  0.909549  16.268610  1.895173  ... -86.722153  0.049652   \n",
       "12  18.3635  0.886600  16.093654  1.650648  ... -87.265835  0.037093   \n",
       "13  18.7103  1.064799  16.783276  1.761153  ... -75.859085 -0.099580   \n",
       "14  18.1350  0.709200  16.666652  1.366893  ... -65.425679  0.044153   \n",
       "15  18.5255  0.881949  16.706972  1.538720  ...  36.113826  0.070185   \n",
       "16  18.3035  1.017601  16.448424  1.618347  ...  24.931288 -0.049483   \n",
       "17  18.5951  0.956949  16.887131  1.612553  ... -37.360147 -0.003957   \n",
       "18  18.2515  0.751299  16.703390  1.464368  ... -37.491987 -0.001137   \n",
       "19  18.8867  1.091050  16.879415  1.916700  ... -36.648679  0.006997   \n",
       "20  18.8754  1.028450  16.664321  2.118884  ... -39.853682 -0.028271   \n",
       "21  18.6793  1.088500  16.524450  2.054200  ... -41.080663 -0.015570   \n",
       "22  19.0721  1.049099  17.080680  1.881912  ... -35.810776 -0.026969   \n",
       "23  18.5742  0.729101  17.085701  1.373355  ... -43.241690  0.045663   \n",
       "\n",
       "        pmra     pmdec       hrv  rv_feh    teff   logg  rv_teff   rv_logg  \n",
       "0   1.481980  1.325902  214.2744 -0.9478  4776.4  2.473  4912.28  3.136060  \n",
       "1   1.704686  1.022928  277.5191 -2.5000  4559.4  0.887  4510.79  1.647123  \n",
       "2   1.399954  1.169490  330.2869 -2.4240  4500.1  0.694  4464.59  1.345082  \n",
       "3   1.764923  1.079426  331.0191 -2.1670  4491.1  0.661  4494.06  1.477748  \n",
       "4   1.610301  1.019161  323.5758 -2.0270  4660.4  1.310  4628.59  2.013458  \n",
       "5   1.539075  1.059221  320.2577 -2.5000  4683.3  1.094  4628.92  2.466324  \n",
       "6   1.951489  0.021114  150.6798 -1.0435  4872.4  2.322  5076.90  3.167504  \n",
       "7   1.515690  0.943366  349.5936 -2.3689  4757.9  1.615  4655.95  1.916760  \n",
       "8   1.254946  0.245479   85.4528 -1.3109     NaN    NaN  4886.87  2.803806  \n",
       "9   1.407164 -0.387177  201.3016 -1.4780  4655.6  1.826  4654.75  2.453694  \n",
       "10  1.632761 -0.302664  240.8723 -1.3618  4723.8  1.457  4816.51  2.299056  \n",
       "11  1.738612  0.030195  235.7405 -1.1887  4584.8  1.715  4705.51  2.726760  \n",
       "12  1.969757 -0.615522  146.7677 -1.5560  4712.1  1.617  4759.94  2.395424  \n",
       "13  1.850740  0.188396  200.8456 -2.2955  4523.9  1.051  4508.75  1.579093  \n",
       "14  2.339557  0.095943  238.7061 -1.4074  4891.1  2.351  4920.90  2.870291  \n",
       "15  1.749057  0.380939  311.2862 -2.4823  4650.8  1.365  4535.95  1.803162  \n",
       "16  1.729525  0.364796  287.0577 -2.5000  4696.6  1.331  4537.53  1.242746  \n",
       "17  2.036007 -0.057850  262.9118 -2.1050  4632.6  1.170  4582.79  1.742599  \n",
       "18  1.327753  0.344056  350.9509 -1.4133  4834.3  1.601  4947.90  2.532795  \n",
       "19  1.712002 -0.273816  247.2861 -1.7558  4484.5  1.045  4545.90  2.015718  \n",
       "20  1.852413 -0.185419  258.9194 -1.1131  4485.4  1.369  4660.60  2.697166  \n",
       "21  2.108742  0.259167  252.4977 -1.8703  4449.1  1.096  4449.58  2.027807  \n",
       "22  1.759223 -0.071629  250.3018 -1.7318  4418.2  1.155  4423.00  1.931705  \n",
       "23  1.573310 -0.200920  192.8244 -1.4305  4759.2  2.129  4876.36  2.734423  \n",
       "\n",
       "[24 rows x 23 columns]"
      ]
     },
     "execution_count": 15,
     "metadata": {},
     "output_type": "execute_result"
    }
   ],
   "source": [
    "final = qc.query(sql=\"select * from mydb://skymapperdr4_x_gaiadr3_x_apogee2\", fmt='pandas', timeout=600)\n",
    "final"
   ]
  },
  {
   "cell_type": "code",
   "execution_count": 16,
   "id": "57ac0118-6b5d-4dc8-b5cf-bb8a21d0649b",
   "metadata": {
    "execution": {
     "iopub.execute_input": "2024-10-22T22:20:02.829405Z",
     "iopub.status.busy": "2024-10-22T22:20:02.829259Z",
     "iopub.status.idle": "2024-10-22T22:20:02.836796Z",
     "shell.execute_reply": "2024-10-22T22:20:02.836318Z",
     "shell.execute_reply.started": "2024-10-22T22:20:02.829393Z"
    },
    "tags": []
   },
   "outputs": [],
   "source": [
    "# Extracted X,Y values for LMC rotation model from Figure 3 using https://apps.automeris.io/wpd/\n",
    "### THIS CELL CAN BE DELETED\n",
    "x_rot = [-198.9599774,-198.0313388,-195.6740254,-192.9595434,-190.1021938,-187.2448443,-184.2446273,-181.1015428,-177.9584583,-174.8153738,-171.6722893,-168.5292048,-165.3861203,-162.2430358,-159.0999513,-155.9568668,-152.8137824,-149.6706979,-146.5276134,-143.3845289,-140.2414444,-137.0983599,-133.9552754,-130.8121909,-127.6691064,-124.5260219,-121.3829374,-118.239853,-115.0967685,-111.953684,-108.8105995,-105.667515,-102.5244305,-99.38134601,-96.23826152,-93.09517703,-89.95209254,-86.80900805,-83.66592356,-80.52283907,-77.37975458,-74.23667009,-71.0935856,-67.9505011,-64.80741661,-61.8071996,-58.94985006,-56.09250053,-53.37801847,-50.66353641,-47.94905435,-45.37743976,-42.80582518,-40.2342106,-37.66259601,-35.09098143,-32.51936685,-29.94775226,-27.37613768,-24.8045231,-22.23290851,-19.66129393,-17.08967935,-14.51806476,-11.8035827,-8.946233165,-6.088883628,-3.231534091,-0.231317077,2.911767414,6.054851904,9.197936395,12.34102089,15.48410538,18.62718987,21.77027436,24.91335885,28.05644334,31.19952783,34.34261232,37.48569681,40.6287813,43.77186579,46.91495028,50.05803477,53.20111927,56.34420376,59.48728825,62.63037274,65.77345723,68.91654172,72.05962621,75.2027107,78.34579519,81.48887968,84.63196417,87.77504866,90.91813315,94.06121765,97.20430214,100.3473866,103.4904711,106.6335556,109.7766401,112.9197246,116.0628091,119.2058936,122.2061106,125.0634601,127.9208097,130.6352917,133.3497738,136.2071233,138.9216054,141.49322,144.0648345,146.6364491,149.2080637,151.7796783,154.3512929,156.9229075,159.7283052]\n",
    "y_rot = [217.5621729,215.4580922,213.0583471,209.4209983,205.7604478,202.065952,198.4727207,194.726164,191.041326,187.6805115,184.3814157,181.2674762,178.3695523,175.5950659,173.0520248,170.7095697,168.5831301,166.6727062,164.9937276,163.515335,162.252958,161.2528856,160.4842586,159.9779363,159.6413405,159.5516197,159.8476411,160.2825297,160.9180043,161.8312132,162.9912971,164.3673966,165.9286524,167.7676426,169.838078,172.0782401,174.5344177,177.206611,180.0485309,183.0447476,186.2878393,189.6080795,193.2677728,196.9891848,200.7105969,204.3477171,208.0532994,211.8097997,215.4122317,219.137244,222.8584846,226.450173,230.0984368,233.7467007,237.3572476,241.02437,244.6726339,248.3397563,252.1011712,255.7494351,259.359982,263.0271044,266.6565098,270.1727641,273.8374292,277.6618201,281.3674024,285.0729847,288.710105,292.431517,296.1374993,299.581177,302.9014172,306.0519308,309.0327178,311.8129189,314.4388231,316.8178524,319.0117253,320.9895827,322.7514244,324.2663911,325.5807719,326.6637074,327.4843382,328.0735236,328.4621232,328.5266993,328.4678379,328.0540937,327.4860526,326.6557068,325.5630563,324.2698199,322.7142789,320.9581518,319.0014389,316.7824212,314.393677,311.7734875,308.9681417,306.0084991,302.8328408,299.4874559,296.049493,292.318366,288.5718092,284.9446326,281.2331641,277.4877504,273.8918903,270.184765,266.2696246,262.4304898,258.8182285,255.1682502,251.4994134,247.7740011,244.1051643,240.3986105,236.6920566,233.4954618]"
   ]
  },
  {
   "cell_type": "markdown",
   "id": "e25c4765-f7f4-4ff5-8289-d31b2dfb2f74",
   "metadata": {},
   "source": [
    "#### Equation for LMC rotation model from van der Marel+2002"
   ]
  },
  {
   "cell_type": "code",
   "execution_count": 17,
   "id": "0a8b651f-63ec-4318-a2a9-1b946d7a2562",
   "metadata": {
    "execution": {
     "iopub.execute_input": "2024-10-22T22:20:02.837666Z",
     "iopub.status.busy": "2024-10-22T22:20:02.837450Z",
     "iopub.status.idle": "2024-10-22T22:20:02.868528Z",
     "shell.execute_reply": "2024-10-22T22:20:02.867947Z",
     "shell.execute_reply.started": "2024-10-22T22:20:02.837654Z"
    }
   },
   "outputs": [],
   "source": [
    "x_rots = np.linspace(-200,150,100)\n",
    "rots = 7e-10*(x_rots**5) + 1e-07*(x_rots**4) - 6e-05*(x_rots**3) - 0.0061*(x_rots**2) + 1.2142*(x_rots) + 288.47"
   ]
  },
  {
   "cell_type": "markdown",
   "id": "9efe50cb-2131-4bb6-a1f6-13cf2228d635",
   "metadata": {},
   "source": [
    "#### Radial velocity and position angle values from Oh et al 2023:"
   ]
  },
  {
   "cell_type": "code",
   "execution_count": 18,
   "id": "47e2073e-1581-40f0-858b-130be29557ce",
   "metadata": {
    "execution": {
     "iopub.execute_input": "2024-10-22T22:20:02.869473Z",
     "iopub.status.busy": "2024-10-22T22:20:02.869302Z",
     "iopub.status.idle": "2024-10-22T22:20:02.894586Z",
     "shell.execute_reply": "2024-10-22T22:20:02.894050Z",
     "shell.execute_reply.started": "2024-10-22T22:20:02.869461Z"
    }
   },
   "outputs": [],
   "source": [
    "data_oh = {'angle': [-0.1,43.7,13.3,34.9,-31.2,-0.5,-66.0,2.8,-17.4,-70.2],\n",
    "        'rv': [312.0,352.9,289.5,283.6,286.5,269.3,232.1,284.6,229.7,307.4]}\n",
    "df_oh = pd.DataFrame(data_oh)"
   ]
  },
  {
   "cell_type": "code",
   "execution_count": 19,
   "id": "3643e643-1fd9-44a2-915e-2ea0b5a4e4f1",
   "metadata": {
    "execution": {
     "iopub.execute_input": "2024-10-22T22:20:02.895494Z",
     "iopub.status.busy": "2024-10-22T22:20:02.895324Z",
     "iopub.status.idle": "2024-10-22T22:20:03.029125Z",
     "shell.execute_reply": "2024-10-22T22:20:03.028467Z",
     "shell.execute_reply.started": "2024-10-22T22:20:02.895482Z"
    },
    "tags": []
   },
   "outputs": [
    {
     "data": {
      "image/png": "[encoded data removed]",
      "text/plain": [
       "<Figure size 800x600 with 1 Axes>"
      ]
     },
     "metadata": {},
     "output_type": "display_data"
    }
   ],
   "source": [
    "plt.figure(figsize=(8,6))\n",
    "plt.plot(final['angle'], final['hrv'], 'c*', label='EMP candidates')\n",
    "plt.plot(df_oh['angle'], df_oh['rv'], 'r*', label='Oh+2023')\n",
    "plt.plot(x_rots, rots, 'k-', label='van der Marel+2002')\n",
    "plt.xlim(-200, 150)\n",
    "plt.ylim(100, 450)\n",
    "plt.ylabel('Radial velocity (km/s)')\n",
    "plt.xlabel('Position angle (deg)')\n",
    "plt.legend()\n",
    "plt.show()"
   ]
  },
  {
   "cell_type": "markdown",
   "id": "ff616444-86ae-44eb-b3de-6ec51b2e7506",
   "metadata": {},
   "source": [
    "The Figure shows radial velocity as a function of position angle in the LMC (measured east of north) for our LMC sample. The black sinusoid shows the LMC rotation model derived from carbon stars in the outer LMC disc ([van der Marel et al. 2002](https://arxiv.org/abs/astro-ph/0205161)) that sit at radii similar to the majority of our EMP sample."
   ]
  }
 ],
 "metadata": {
  "kernelspec": {
   "display_name": "Python 3",
   "language": "python",
   "name": "python3"
  },
  "language_info": {
   "codemirror_mode": {
    "name": "ipython",
    "version": 3
   },
   "file_extension": ".py",
   "mimetype": "text/x-python",
   "name": "python",
   "nbconvert_exporter": "python",
   "pygments_lexer": "ipython3",
   "version": "3.10.13"
  }
 },
 "nbformat": 4,
 "nbformat_minor": 5
}
