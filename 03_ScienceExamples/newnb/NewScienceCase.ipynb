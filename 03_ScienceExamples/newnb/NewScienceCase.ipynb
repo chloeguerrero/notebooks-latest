{
 "cells": [
  {
   "cell_type": "code",
   "execution_count": null,
   "id": "a85b523a-8833-4c1f-98e3-d7620baaf015",
   "metadata": {},
   "outputs": [],
   "source": [
    "__author__ = 'David Herrera <david.herrera@noirlab.edu>, and the Astro Data Lab Team <datalab@noirlab.edu>'\n",
    "__version__ = '20230515' # yyyymmdd\n",
    "__datasets__ = ['','']\n",
    "__keywords__ = ['extragalactic','galaxies','joint query','spectroscopic redshift','3d plot']"
   ]
  },
  {
   "cell_type": "markdown",
   "id": "7aade6ad-4337-4496-92d2-da247eed7285",
   "metadata": {
    "jp-MarkdownHeadingCollapsed": true,
    "tags": []
   },
   "source": [
    "### Table of contents\n",
    "* [Goals & Summary](#goals)\n",
    "* [Disclaimer & attribution](#attribution)\n",
    "* [Imports & setup](#import)\n",
    "* [Joint Query of LS and SDSS catalogs](#query)\n",
    "* [Plot Results](#plots)\n",
    "* [Exercise](#exercise)\n",
    "* [3D plot (RA,DEC and z)](3d_plot)"
   ]
  },
  {
   "cell_type": "markdown",
   "id": "d023eb10-744f-4395-bfae-492e72f8752e",
   "metadata": {},
   "source": [
    "<a class=\"anchor\" id=\"goals\"></a>\n",
    "# Goals\n",
    "* Reproduce plots from the DESI LIS paper with the latest datasets\n",
    "\n",
    "# Summary\n",
    "\n",
    "In this Notebook, "
   ]
  },
  {
   "cell_type": "code",
   "execution_count": null,
   "id": "be32456e-c730-4a17-8b0f-4cdfe5616611",
   "metadata": {},
   "outputs": [],
   "source": [
    "# std lib\n",
    "from getpass import getpass\n",
    "\n",
    "# 3rd party\n",
    "import numpy as np\n",
    "import matplotlib\n",
    "import matplotlib.pyplot as plt\n",
    "import matplotlib.patches as patches\n",
    "from scipy.stats import binned_statistic_2d\n",
    "%matplotlib inline\n",
    "from astropy.table import Table\n",
    "from astropy.cosmology import Planck18 as cosmo\n",
    "import plotly\n",
    "import plotly.graph_objs as go\n",
    "import pandas as pd\n",
    "plotly.offline.init_notebook_mode()\n",
    "\n",
    "# Data Lab\n",
    "from dl import queryClient as qc\n",
    "from dl import authClient as ac\n",
    "\n",
    "print('Done importing')"
   ]
  },
  {
   "cell_type": "code",
   "execution_count": null,
   "id": "96841197-4e51-4bce-8b11-0ed110218e2c",
   "metadata": {},
   "outputs": [],
   "source": [
    "# Uncomment the next 3 lines in case authentication is needed:\n",
    "#token = ac.login(input(\"Enter user name: (+ENTER) \"),getpass(\"Enter password: (+ENTER) \"))\n",
    "#if not ac.isValidToken(token):\n",
    "#    raise Exception('Token is not valid. Please check your usename/password and execute this cell again.')"
   ]
  },
  {
   "cell_type": "code",
   "execution_count": null,
   "id": "2fbda9e0-4de5-4643-986c-ab8d82416698",
   "metadata": {},
   "outputs": [],
   "source": [
    "#Fig. 1 - All sky map:\n",
    "query = (\"\"\"SELECT avg(ra) as ra0, avg(dec) as dec0, nest4096, count(nest4096) as n\n",
    "FROM ls_dr7.tractor\"\"\")\n",
    "print(query)"
   ]
  },
  {
   "cell_type": "code",
   "execution_count": null,
   "id": "a2a26bea-fcc6-4c86-8723-8e05948ce12d",
   "metadata": {},
   "outputs": [],
   "source": [
    "# Fig. 15\n",
    "query15a = (\"\"\"SELECT \n",
    "ra as d6ra,dec as d6dec , nexp_g as d6neg, nexp_r as d6ner, nexp_z as d6nez,\n",
    "nexphist_g_1 as d6ng1,nexphist_g_2 as d6ng2,nexphist_g_3 as d6ng3,nexphist_g_4 as d6ng4,nexphist_g_5 as d6ng5,nexphist_g_6 as d6ng6,\n",
    "nexphist_r_1 as d6nr1,nexphist_r_2 as d6nr2,nexphist_r_3 as d6nr3,nexphist_r_4 as d6nr4,nexphist_r_5 as d6nr5,nexphist_r_6 as d6nr6,\n",
    "nexphist_z_1 as d6nz1,nexphist_z_2 as d6nz2,nexphist_z_3 as d6nz3,nexphist_z_4 as d6nz4,nexphist_z_5 as d6nz5,nexphist_z_6 as d6nz6,\n",
    "psfdepth_g as d6psfdg,psfdepth_r as d6psfdr,psfdepth_z as d6psfdz,\n",
    "nobjs\n",
    "FROM ls_dr6.bricks_dr6 as d6b\"\"\")\n",
    "print(query15a)\n",
    "query15b = (\"\"\"SELECT \n",
    "ra as d7ra,dec as d7dec , nexp_g as d7neg, nexp_r as d7ner, nexp_z as d7nez,\n",
    "nexphist_g_1 as d7ng1,nexphist_g_2 as d7ng2,nexphist_g_3 as d7ng3,nexphist_g_4 as d7ng4,nexphist_g_5 as d7ng5,nexphist_g_6 as d7ng6,\n",
    "nexphist_r_1 as d7nr1,nexphist_r_2 as d7nr2,nexphist_r_3 as d7nr3,nexphist_r_4 as d7nr4,nexphist_r_5 as d7nr5,nexphist_r_6 as d7nr6,\n",
    "nexphist_z_1 as d7nz1,nexphist_z_2 as d7nz2,nexphist_z_3 as d7nz3,nexphist_z_4 as d7nz4,nexphist_z_5 as d7nz5,nexphist_z_6 as d7nz6,\n",
    "psfdepth_g as d7psfdg,psfdepth_r as d7psfdr,psfdepth_z as d7psfdz,\n",
    "nobjs\n",
    "FROM ls_dr7.bricks_dr7 as d7b\"\"\")\n",
    "print(query15b)"
   ]
  },
  {
   "cell_type": "code",
   "execution_count": null,
   "id": "f31ce19d-9e41-458e-b17c-c0f57cb4ef98",
   "metadata": {},
   "outputs": [],
   "source": [
    "%%time\n",
    "# Fetch the DESI LIS data from ls_dr6.bricks_dr6 (d6) and from ls_dr7.bricks_dr7 (d7) \n",
    "d6 = qc.query(sql=query15a, fmt='pandas')\n",
    "d7 = qc.query(sql=query15b, fmt='pandas')\n",
    "\n",
    "print(d6[:5])\n",
    "print(d7[:5])"
   ]
  },
  {
   "cell_type": "code",
   "execution_count": null,
   "id": "a5b20729-0f32-4ec7-8dd7-ca89b05305db",
   "metadata": {},
   "outputs": [],
   "source": [
    "nmin = 1000\n",
    "#Requires 90% of the image are to contain  >= 3 exposures:\n",
    "npix = 0.9*900.*900. \n",
    "\n",
    "#Add all histograms of pixels per brick per band g,r,z\n",
    "total_ng6 = d6['d6ng1'] + d6['d6ng2'] + d6['d6ng3'] + d6['d6ng4'] + d6['d6ng5'] + d6['d6ng6']\n",
    "total_nr6 = d6['d6nr1'] + d6['d6nr2'] + d6['d6nr3'] + d6['d6nr4'] + d6['d6nr5'] + d6['d6nr6']\n",
    "total_nz6 = d6['d6nz1'] + d6['d6nz2'] + d6['d6nz3'] + d6['d6nz4'] + d6['d6nz5'] + d6['d6nz6']\n",
    "total_ng7 = d7['d7ng1'] + d7['d7ng2'] + d7['d7ng3'] + d7['d7ng4'] + d7['d7ng5'] + d7['d7ng6']\n",
    "total_nr7 = d7['d7nr1'] + d7['d7nr2'] + d7['d7nr3'] + d7['d7nr4'] + d7['d7nr5'] + d7['d7nr6']\n",
    "total_nz7 = d7['d7nz1'] + d7['d7nz2'] + d7['d7nz3'] + d7['d7nz4'] + d7['d7nz5'] + d7['d7nz6']\n",
    "\n",
    "#Add all histograms of pixels per brick per band g,r,z with nexp >= 3\n",
    "ge3_ng6 = d6['d6ng4'] + d6['d6ng5'] + d6['d6ng6']\n",
    "ge3_nr6 = d6['d6nr4'] + d6['d6nr5'] + d6['d6nr6']\n",
    "ge3_nz6 = d6['d6nz4'] + d6['d6nz5'] + d6['d6nz6']\n",
    "#ge3_nz6 = d6['d6nz3'] + d6['d6nz4'] + d6['d6nz5'] + d6['d6nz6']\n",
    "\n",
    "ge3_ng7 = d7['d7ng4'] + d7['d7ng5'] + d7['d7ng6'] \n",
    "ge3_nr7 = d7['d7nr4'] + d7['d7nr5'] + d7['d7nr6'] \n",
    "ge3_nz7 = d7['d7nz4'] + d7['d7nz5'] + d7['d7nz6']\n",
    "\n",
    "#Normalizing to 1\n",
    "fraction_ng6 = ge3_ng6 / total_ng6\n",
    "fraction_nr6 = ge3_nr6 / total_nr6\n",
    "fraction_nz6 = ge3_nz6 / total_nz6\n",
    "fraction_ng7 = ge3_ng7 / total_ng7\n",
    "fraction_nr7 = ge3_nr7 / total_nr7\n",
    "fraction_nz7 = ge3_nz7 / total_nz7\n",
    "\n",
    "# Conditions to consider values\n",
    "cond6g = (d6['d6neg'] >= 3)  & (d6['nobjs'] >= nmin)  & (total_ng6 > npix) &  (fraction_ng6 >= 0.9)\n",
    "cond6r = (d6['d6ner'] >= 3)  & (d6['nobjs'] >= nmin)  & (total_nr6 > npix) &  (fraction_nr6 >= 0.9)\n",
    "#cond6z = (d6['d6nez'] >= 3)  & (d6['nobjs'] >= nmin)  & (total_nz6 > npix) &  (fraction_nz6 >= 0.9)\n",
    "cond6z = (d6['nobjs'] >= nmin)  & (total_nz6 > npix) &  (fraction_nz6 >= 0.9)\n",
    "cond7g = (d7['d7neg'] >= 3)  & (d7['nobjs'] >= nmin)  & (total_ng7 > npix) &  (fraction_ng7 >= 0.9)\n",
    "cond7r = (d7['d7ner'] >= 3)  & (d7['nobjs'] >= nmin)  & (total_nr7 > npix) &  (fraction_nr7 >= 0.9)\n",
    "cond7z = (d7['d7nez'] >= 3)  & (d7['nobjs'] >= nmin)  & (total_nz7 > npix) &  (fraction_nz7 >= 0.9)\n",
    "\n",
    "#print(cond6g[20000:20040])\n",
    "\n"
   ]
  },
  {
   "cell_type": "markdown",
   "id": "10154ca0-0cef-42cb-9add-fb04bb3e9cf4",
   "metadata": {},
   "source": [
    ".\n",
    "\n"
   ]
  },
  {
   "cell_type": "code",
   "execution_count": null,
   "id": "7dd014c5-b5da-4459-961b-8c781702f748",
   "metadata": {},
   "outputs": [],
   "source": [
    "#We stablish the bin range and size \n",
    "my_bins = np.arange(22.5,26.0001,0.02)\n",
    "my_bins"
   ]
  },
  {
   "cell_type": "code",
   "execution_count": null,
   "id": "96175fe1-61cd-4655-82cf-44d95764ba8f",
   "metadata": {},
   "outputs": [],
   "source": [
    "cpc_g6,bins = np.histogram(d6['d6psfdg'][cond6g], bins=my_bins,range = (22.5, 26.0))\n",
    "cpc_r6,bins = np.histogram(d6['d6psfdr'][cond6r], bins=my_bins,range = (22.5, 26.0))\n",
    "cpc_z6,bins = np.histogram(d6['d6psfdz'][cond6z], bins=my_bins,range = (22.5, 26.0))\n",
    "cpc_g7,bins = np.histogram(d7['d7psfdg'][cond7g], bins=my_bins,range = (22.5, 26.0))\n",
    "cpc_r7,bins = np.histogram(d7['d7psfdr'][cond7r], bins=my_bins,range = (22.5, 26.0))\n",
    "cpc_z7,bins = np.histogram(d7['d7psfdz'][cond7z], bins=my_bins,range = (22.5, 26.0))\n",
    "\n",
    "print(cpc_g6)\n",
    "print(cpc_g7)\n",
    "print(cpc_z6)"
   ]
  },
  {
   "cell_type": "code",
   "execution_count": null,
   "id": "f7992c5c-d7bd-4a4d-ae20-d98dc3290055",
   "metadata": {},
   "outputs": [],
   "source": [
    "centers = (bins[0:-1]+bins[1:])/2"
   ]
  },
  {
   "cell_type": "code",
   "execution_count": null,
   "id": "f03a78f5-c3c4-4891-b48d-724da32494d1",
   "metadata": {},
   "outputs": [],
   "source": [
    "plt.bar(centers,cpc_g6/maxg6)"
   ]
  },
  {
   "cell_type": "code",
   "execution_count": null,
   "id": "b500a06e-5c68-42d3-8172-9097c771f17d",
   "metadata": {},
   "outputs": [],
   "source": [
    "# Calculate the cumulative sum, maximum and the fraction of each band\n",
    "#cpc_g1 = np.cumsum(cpc_g6)\n",
    "#max_g6 = cpc_g1.max()\n",
    "#cpc_g1 = cpc_g1/max_g6\n",
    "#cpc_r1 = np.cumsum(cpc_r6)\n",
    "#max_r6 = cpc_r1.max()\n",
    "#cpc_r1 = cpc_r1/max_r6\n",
    "#cpc_z1 = np.cumsum(cpc_z6)\n",
    "#max_z6 = cpc_z1.max()\n",
    "#cpc_z1 = cpc_z1/max_z6\n",
    "\n",
    "cpcf_g1 = np.cumsum(cpc_g6)\n",
    "max_g6 = cpcf_g1.max()\n",
    "cpcf_g1 = cpcf_g1/max_g6\n",
    "cpcf_r1 = np.cumsum(cpc_r6)\n",
    "max_r6 = cpcf_r1.max()\n",
    "cpcf_r1 = cpcf_r1/max_r6\n",
    "cpcf_z1 = np.cumsum(cpc_z6)\n",
    "max_z6 = cpcf_z1.max()\n",
    "cpcf_z1 = cpcf_z1/max_z6\n",
    "\n",
    "cpcf_g2 = np.cumsum(cpc_g7)\n",
    "max_g7 = cpcf_g2.max()\n",
    "cpcf_g2 = cpcf_g2/max_g7\n",
    "\n",
    "cpcf_r2 = np.cumsum(cpc_r7)\n",
    "max_r7 = cpcf_r2.max()\n",
    "cpcf_r2 = cpcf_r2/max_r7\n",
    "\n",
    "cpcf_z2 = np.cumsum(cpc_z7)\n",
    "max_z7 = cpcf_z2.max()\n",
    "cpcf_z2 = cpcf_z2/max_z7"
   ]
  },
  {
   "cell_type": "code",
   "execution_count": null,
   "id": "f09ca20d-6cda-4769-a0e3-740ba383f3d0",
   "metadata": {},
   "outputs": [],
   "source": [
    "font = {'family' : 'monospace',\n",
    "        'weight' : 'bold',\n",
    "        'size'   : 16}\n",
    "\n",
    "matplotlib.rc('font', **font)\n",
    "#fig, ax = plt.subplots()\n",
    "                       \n",
    "plt.figure(figsize=(9,8))\n",
    "plt.xlim(22.5,26.0)\n",
    "plt.ylim(0,1.)\n",
    "plt.xlabel('AB Magnitude', fontsize = 20)\n",
    "plt.ylabel('Cumulative fraction', fontsize = 20)\n",
    "#plt.Axes.tick_params(axis='both', direction = 'in')\n",
    "#ax.tick_params(axis='both', direction = 'in')\n",
    "plt.plot(centers,cpcf_g2, c='blue', label='DR7 g', lw=0.8)\n",
    "plt.plot(centers,cpcf_g1, c='blue', ls='dashed', label='DR6 g', lw=0.8)\n",
    "plt.plot(centers,cpcf_r2, c='red', label='DR7 r', lw=0.8)\n",
    "plt.plot(centers,cpcf_r1, c='red', ls='dashed', label='DR6 r', lw=0.8)\n",
    "plt.plot(centers,cpcf_z2, c='purple', label='DR7 z', lw=0.8)\n",
    "plt.plot(centers,cpcf_z1, c='purple', ls='dashed', label='DR6 z', lw=0.8)\n",
    "#plt.plot(data2['dl'],cpc_g2, c='blue', label='DR7 g', lw =0.8)\n",
    "#plt.plot(data1['dl'],cpc_g1, c='blue', ls='dashed', label='DR6 g', lw=0.8)\n",
    "#plt.plot(data2['dl'],cpc_r2, c='red', label='DR7 r', lw =0.8)\n",
    "#plt.plot(data1['dl'],cpc_r1, c='red', ls='dashed', label='DR6 r', lw=0.8)\n",
    "#plt.plot(data2['dl'],cpc_z2, c='purple', label='DR7 z', lw =0.8)\n",
    "#plt.plot(data1['dl'],cpc_z1, c='purple', ls='dashed', label='DR6 z', lw =0.8)\n",
    "\n",
    "plt.legend(loc=7,frameon=False)\n",
    "plt.show()"
   ]
  },
  {
   "cell_type": "code",
   "execution_count": null,
   "id": "fe08b292-60ac-40a4-919a-15a4532d351c",
   "metadata": {},
   "outputs": [],
   "source": [
    "# Fig. 8\n",
    "#query_fig8y = (\"\"\"SELECT mag_w1 from ls_dr7.tractor a \n",
    "#                where random_id between 32.1 and 32.15\n",
    "#                \"\"\")\n",
    "#query_fig8x = \"SELECT w1mpro from allwise.source\"\n",
    "\n",
    "#query_fig8 = (\"\"\"\n",
    "#select l.mag_w1, l.mag_w2, l.dered_mag_w1, l.dered_mag_w2, a.w1mpro +\n",
    "#2.699 as w1mpro, a.w2mpro + 3.339 as w2mpro\n",
    "#from ls_dr7.tractor as l, allwise.source as a\n",
    "#where q3c_radial_query(a.ra,a.dec,l.ra,l.dec,1/3600.)\n",
    "#and l.mag_w1 != 'inf'\n",
    "#and l.mag_w2 != 'inf'\n",
    "#nd l.random_id between 0.5 and 0.55\n",
    "#limit 50000\"\"\")\n",
    "#print (query_fig8)\n",
    "\n",
    "query_fig8 = (\"\"\"\n",
    "select l.mag_w1, l.mag_w2, l.dered_mag_w1, l.dered_mag_w2, a.w1mpro +\n",
    "2.699 as w1mpro, a.w2mpro + 3.339 as w2mpro\n",
    "from ls_dr7.tractor as l, allwise.source as a\n",
    "where q3c_radial_query(a.ra,a.dec,l.ra,l.dec,1/3600.)\n",
    "limit 200000\"\"\")\n",
    "print (query_fig8)"
   ]
  },
  {
   "cell_type": "code",
   "execution_count": null,
   "id": "9f859841-d7c7-41f2-916d-5a40522d0f31",
   "metadata": {},
   "outputs": [],
   "source": [
    "%%time\n",
    "# Fetch the W1 mag from ls_dr17.tractor and from allwise.source\n",
    "w1_awls = qc.query(sql=query_fig8, fmt='csv')\n",
    "\n",
    "data_awls = Table.read(w1_awls, format='csv')\n",
    "\n",
    "data_awls[:10]"
   ]
  },
  {
   "cell_type": "code",
   "execution_count": null,
   "id": "db255ba6-be53-49bd-b713-0f8ee2684c07",
   "metadata": {},
   "outputs": [],
   "source": [
    "%%time\n",
    "# Fetch the W1 mag from ls_dr17.tractor and from allwise.source\n",
    "w1_awls = qc.query(sql=query_fig8, fmt='pandas')\n",
    "\n"
   ]
  },
  {
   "cell_type": "code",
   "execution_count": null,
   "id": "61a9fd8d-4b27-4423-add0-0d4e96cf571a",
   "metadata": {},
   "outputs": [],
   "source": [
    "w1_awls "
   ]
  },
  {
   "cell_type": "code",
   "execution_count": null,
   "id": "2e6c8970-e3b4-4679-8451-d86cf92159f2",
   "metadata": {},
   "outputs": [],
   "source": [
    "w1_awls.index[np.isinf(w1_awls).any(1)]"
   ]
  },
  {
   "cell_type": "code",
   "execution_count": null,
   "id": "92db8823-bd5d-4c3c-bcff-1e4fb3e8d139",
   "metadata": {},
   "outputs": [],
   "source": [
    "foo = w1_awls[~w1_awls.isin([np.inf,-np.inf])]"
   ]
  },
  {
   "cell_type": "code",
   "execution_count": null,
   "id": "78aefe6b-f92c-4f47-8945-5076073f3fe8",
   "metadata": {},
   "outputs": [],
   "source": [
    "data_awls = foo.dropna().reset_index()\n",
    "data_awls"
   ]
  },
  {
   "cell_type": "code",
   "execution_count": null,
   "id": "0bdcd7c8-688c-46c0-9afc-467196a43702",
   "metadata": {},
   "outputs": [],
   "source": [
    "x_fig8 = data_awls['w1mpro']\n",
    "y_fig8 = data_awls['mag_w1']\n",
    "plt.figure(figsize=(9,8))\n",
    "plt.scatter(x_fig8,y_fig8, c='gray', s=1)\n",
    "plt.xlabel('AllWISE W1')\n",
    "plt.ylabel('LS W1')\n",
    "plt.xlim(reversed(plt.xlim(5.,19)))\n",
    "plt.ylim(reversed(plt.ylim(5.,19)))"
   ]
  },
  {
   "cell_type": "code",
   "execution_count": null,
   "id": "b5510145-02c7-4563-9f37-a3ed9ff89f98",
   "metadata": {},
   "outputs": [],
   "source": [
    "#Fig. 16\n",
    "query_fig16a = (\"\"\"\n",
    "SELECT r_z, g_r, z_w1, type \n",
    "FROM ls_dr6.tractor \n",
    "WHERE type = 'EXP' or type = 'DEV' or type = 'PSF'\n",
    "limit 1000\n",
    "\"\"\")\n",
    "print(query_fig16a)"
   ]
  },
  {
   "cell_type": "code",
   "execution_count": null,
   "id": "bad374eb-eb58-403f-8b53-0cfed456a8a4",
   "metadata": {},
   "outputs": [],
   "source": [
    "%%time\n",
    "# Fetch the W1 mag from ls_dr17.tractor and from allwise.source\n",
    "data16 = qc.query(sql=query_fig16a, fmt='pandas')\n",
    "\n",
    "#color_type = Table.read(data16, format='pandas')\n",
    "\n",
    "data16[:10]"
   ]
  },
  {
   "cell_type": "code",
   "execution_count": null,
   "id": "46b88314-b04e-45c8-8ed8-70b058f079aa",
   "metadata": {},
   "outputs": [],
   "source": []
  }
 ],
 "metadata": {
  "kernelspec": {
   "display_name": "Python 3",
   "language": "python",
   "name": "python3"
  },
  "language_info": {
   "codemirror_mode": {
    "name": "ipython",
    "version": 3
   },
   "file_extension": ".py",
   "mimetype": "text/x-python",
   "name": "python",
   "nbconvert_exporter": "python",
   "pygments_lexer": "ipython3",
   "version": "3.8.8"
  }
 },
 "nbformat": 4,
 "nbformat_minor": 5
}
