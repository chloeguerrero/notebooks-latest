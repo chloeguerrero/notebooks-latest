{
 "cells": [
  {
   "cell_type": "code",
   "execution_count": null,
   "id": "a85b523a-8833-4c1f-98e3-d7620baaf015",
   "metadata": {},
   "outputs": [],
   "source": [
    "__author__ = 'David Herrera <david.herrera@noirlab.edu>, and the Astro Data Lab Team <datalab@noirlab.edu>'\n",
    "__version__ = '20230515' # yyyymmdd\n",
    "__datasets__ = ['','']\n",
    "__keywords__ = ['extragalactic','galaxies','joint query','spectroscopic redshift','3d plot']"
   ]
  },
  {
   "cell_type": "markdown",
   "id": "7aade6ad-4337-4496-92d2-da247eed7285",
   "metadata": {
    "jp-MarkdownHeadingCollapsed": true,
    "tags": []
   },
   "source": [
    "### Table of contents\n",
    "* [Goals & Summary](#goals)\n",
    "* [Disclaimer & attribution](#attribution)\n",
    "* [Imports & setup](#import)\n",
    "* [Joint Query of LS and SDSS catalogs](#query)\n",
    "* [Plot Results](#plots)\n",
    "* [Exercise](#exercise)\n",
    "* [3D plot (RA,DEC and z)](3d_plot)"
   ]
  },
  {
   "cell_type": "markdown",
   "id": "d023eb10-744f-4395-bfae-492e72f8752e",
   "metadata": {},
   "source": [
    "<a class=\"anchor\" id=\"goals\"></a>\n",
    "# Goals\n",
    "* Reproduce plots from the DESI LIS paper with the latest datasets\n",
    "\n",
    "# Summary\n",
    "\n",
    "In this Notebook, "
   ]
  },
  {
   "cell_type": "code",
   "execution_count": null,
   "id": "be32456e-c730-4a17-8b0f-4cdfe5616611",
   "metadata": {},
   "outputs": [],
   "source": [
    "# std lib\n",
    "from getpass import getpass\n",
    "\n",
    "# 3rd party\n",
    "import numpy as np\n",
    "import matplotlib\n",
    "import matplotlib.pyplot as plt\n",
    "import matplotlib.patches as patches\n",
    "from matplotlib import colors\n",
    "from scipy.stats import binned_statistic_2d\n",
    "%matplotlib inline\n",
    "from astropy.table import Table\n",
    "from astropy.cosmology import Planck18 as cosmo\n",
    "import plotly\n",
    "import plotly.graph_objs as go\n",
    "import pandas as pd\n",
    "plotly.offline.init_notebook_mode()\n",
    "\n",
    "# Data Lab\n",
    "from dl import queryClient as qc\n",
    "from dl import authClient as ac\n",
    "\n",
    "print('Done importing')"
   ]
  },
  {
   "cell_type": "code",
   "execution_count": null,
   "id": "96841197-4e51-4bce-8b11-0ed110218e2c",
   "metadata": {},
   "outputs": [],
   "source": [
    "# Uncomment the next 3 lines in case authentication is needed:\n",
    "#token = ac.login(input(\"Enter user name: (+ENTER) \"),getpass(\"Enter password: (+ENTER) \"))\n",
    "#if not ac.isValidToken(token):\n",
    "#    raise Exception('Token is not valid. Please check your usename/password and execute this cell again.')"
   ]
  },
  {
   "cell_type": "code",
   "execution_count": null,
   "id": "2fbda9e0-4de5-4643-986c-ab8d82416698",
   "metadata": {},
   "outputs": [],
   "source": [
    "#Fig. 1 - All sky map:\n",
    "query = (\"\"\"SELECT avg(ra) as ra0, avg(dec) as dec0, nest4096, count(nest4096) as n\n",
    "FROM ls_dr7.tractor\"\"\")\n",
    "print(query)"
   ]
  },
  {
   "cell_type": "markdown",
   "id": "83af50ef-085d-4043-88c9-dfa75cce9207",
   "metadata": {},
   "source": [
    ".  \n",
    "\n",
    "## Fig. 15\n",
    ".  \n",
    ".  \n",
    "\n"
   ]
  },
  {
   "cell_type": "code",
   "execution_count": null,
   "id": "a2a26bea-fcc6-4c86-8723-8e05948ce12d",
   "metadata": {},
   "outputs": [],
   "source": [
    "# Fig. 15\n",
    "query15a = (\"\"\"SELECT \n",
    "ra as d6ra,dec as d6dec , nexp_g as d6neg, nexp_r as d6ner, nexp_z as d6nez,\n",
    "nexphist_g_1 as d6ng1,nexphist_g_2 as d6ng2,nexphist_g_3 as d6ng3,nexphist_g_4 as d6ng4,nexphist_g_5 as d6ng5,nexphist_g_6 as d6ng6,\n",
    "nexphist_r_1 as d6nr1,nexphist_r_2 as d6nr2,nexphist_r_3 as d6nr3,nexphist_r_4 as d6nr4,nexphist_r_5 as d6nr5,nexphist_r_6 as d6nr6,\n",
    "nexphist_z_1 as d6nz1,nexphist_z_2 as d6nz2,nexphist_z_3 as d6nz3,nexphist_z_4 as d6nz4,nexphist_z_5 as d6nz5,nexphist_z_6 as d6nz6,\n",
    "psfdepth_g as d6psfdg,psfdepth_r as d6psfdr,psfdepth_z as d6psfdz,\n",
    "nobjs\n",
    "FROM ls_dr6.bricks_dr6 as d6b\"\"\")\n",
    "#print(query15a)\n",
    "query15b = (\"\"\"SELECT \n",
    "ra as d7ra,dec as d7dec , nexp_g as d7neg, nexp_r as d7ner, nexp_z as d7nez,\n",
    "nexphist_g_1 as d7ng1,nexphist_g_2 as d7ng2,nexphist_g_3 as d7ng3,nexphist_g_4 as d7ng4,nexphist_g_5 as d7ng5,nexphist_g_6 as d7ng6,\n",
    "nexphist_r_1 as d7nr1,nexphist_r_2 as d7nr2,nexphist_r_3 as d7nr3,nexphist_r_4 as d7nr4,nexphist_r_5 as d7nr5,nexphist_r_6 as d7nr6,\n",
    "nexphist_z_1 as d7nz1,nexphist_z_2 as d7nz2,nexphist_z_3 as d7nz3,nexphist_z_4 as d7nz4,nexphist_z_5 as d7nz5,nexphist_z_6 as d7nz6,\n",
    "psfdepth_g as d7psfdg,psfdepth_r as d7psfdr,psfdepth_z as d7psfdz,\n",
    "nobjs\n",
    "FROM ls_dr7.bricks_dr7 as d7b\"\"\")\n",
    "#print(query15b)\n",
    "query15c = (\"\"\"SELECT\n",
    "ra as d9ra,dec as d9dec , nexp_g as d9neg, nexp_r as d9ner, nexp_z as d9nez,\n",
    "nexphist_g_1 as d9ng1,nexphist_g_2 as d9ng2,nexphist_g_3 as d9ng3,nexphist_g_4 as d9ng4,nexphist_g_5 as d9ng5,nexphist_g_6 as d9ng6,\n",
    "nexphist_r_1 as d9nr1,nexphist_r_2 as d9nr2,nexphist_r_3 as d9nr3,nexphist_r_4 as d9nr4,nexphist_r_5 as d9nr5,nexphist_r_6 as d9nr6,\n",
    "nexphist_z_1 as d9nz1,nexphist_z_2 as d9nz2,nexphist_z_3 as d9nz3,nexphist_z_4 as d9nz4,nexphist_z_5 as d9nz5,nexphist_z_6 as d9nz6,\n",
    "psfdepth_g as d9psfdg,psfdepth_r as d9psfdr,psfdepth_z as d9psfdz,\n",
    "nobjs\n",
    "FROM ls_dr9.bricks_s as d9b\"\"\")\n",
    "print(query15c)"
   ]
  },
  {
   "cell_type": "code",
   "execution_count": null,
   "id": "f31ce19d-9e41-458e-b17c-c0f57cb4ef98",
   "metadata": {},
   "outputs": [],
   "source": [
    "# Fetch the DESI LIS data from ls_dr6.bricks_dr6 (d6) and from ls_dr7.bricks_dr7 (d7) \n",
    "d6 = qc.query(sql=query15a, fmt='pandas')\n",
    "d7 = qc.query(sql=query15b, fmt='pandas')\n",
    "d9 = qc.query(sql=query15c, fmt='pandas')\n",
    "\n",
    "#print(d6[:5])\n",
    "#print(d7[:5])\n",
    "print(d9[:5])"
   ]
  },
  {
   "cell_type": "code",
   "execution_count": null,
   "id": "e169a94d-9c16-4008-81af-0de1c5494077",
   "metadata": {},
   "outputs": [],
   "source": [
    "# Required higher\n",
    "nmin = 1000\n",
    "#Requires 90% of the image are to contain  >= 3 exposures:\n",
    "npix = 0.9*900.*900. "
   ]
  },
  {
   "cell_type": "code",
   "execution_count": null,
   "id": "dbccd582-20c7-4ead-9b68-97509af19ad2",
   "metadata": {},
   "outputs": [],
   "source": [
    "#Add all histograms of pixels per brick per band g,r,z\n",
    "total_ng6 = d6['d6ng1'] + d6['d6ng2'] + d6['d6ng3'] + d6['d6ng4'] + d6['d6ng5'] + d6['d6ng6']\n",
    "total_nr6 = d6['d6nr1'] + d6['d6nr2'] + d6['d6nr3'] + d6['d6nr4'] + d6['d6nr5'] + d6['d6nr6']\n",
    "total_nz6 = d6['d6nz1'] + d6['d6nz2'] + d6['d6nz3'] + d6['d6nz4'] + d6['d6nz5'] + d6['d6nz6']\n",
    "total_ng7 = d7['d7ng1'] + d7['d7ng2'] + d7['d7ng3'] + d7['d7ng4'] + d7['d7ng5'] + d7['d7ng6']\n",
    "total_nr7 = d7['d7nr1'] + d7['d7nr2'] + d7['d7nr3'] + d7['d7nr4'] + d7['d7nr5'] + d7['d7nr6']\n",
    "total_nz7 = d7['d7nz1'] + d7['d7nz2'] + d7['d7nz3'] + d7['d7nz4'] + d7['d7nz5'] + d7['d7nz6']\n",
    "\n",
    "#Add all histograms of pixels per brick per band g,r,z with nexp >= 3\n",
    "ge3_ng6 = d6['d6ng4'] + d6['d6ng5'] + d6['d6ng6']\n",
    "ge3_nr6 = d6['d6nr4'] + d6['d6nr5'] + d6['d6nr6']\n",
    "ge3_nz6 = d6['d6nz4'] + d6['d6nz5'] + d6['d6nz6']\n",
    "ge3_ng7 = d7['d7ng4'] + d7['d7ng5'] + d7['d7ng6'] \n",
    "ge3_nr7 = d7['d7nr4'] + d7['d7nr5'] + d7['d7nr6'] \n",
    "ge3_nz7 = d7['d7nz4'] + d7['d7nz5'] + d7['d7nz6']\n",
    "\n",
    "#Normalizing to 1\n",
    "fraction_ng6 = ge3_ng6 / total_ng6\n",
    "fraction_nr6 = ge3_nr6 / total_nr6\n",
    "fraction_nz6 = ge3_nz6 / total_nz6\n",
    "fraction_ng7 = ge3_ng7 / total_ng7\n",
    "fraction_nr7 = ge3_nr7 / total_nr7\n",
    "fraction_nz7 = ge3_nz7 / total_nz7\n",
    "\n",
    "# Conditions to consider values\n",
    "cond6g = (d6['d6neg'] >= 3)  & (d6['nobjs'] >= nmin)  & (total_ng6 > npix) &  (fraction_ng6 >= 0.9)\n",
    "cond6r = (d6['d6ner'] >= 3)  & (d6['nobjs'] >= nmin)  & (total_nr6 > npix) &  (fraction_nr6 >= 0.9)\n",
    "cond6z = (d6['d6nez'] >= 3)  & (d6['nobjs'] >= nmin)  & (total_nz6 > npix) &  (fraction_nz6 >= 0.9)\n",
    "cond7g = (d7['d7neg'] >= 3)  & (d7['nobjs'] >= nmin)  & (total_ng7 > npix) &  (fraction_ng7 >= 0.9)\n",
    "cond7r = (d7['d7ner'] >= 3)  & (d7['nobjs'] >= nmin)  & (total_nr7 > npix) &  (fraction_nr7 >= 0.9)\n",
    "cond7z = (d7['d7nez'] >= 3)  & (d7['nobjs'] >= nmin)  & (total_nz7 > npix) &  (fraction_nz7 >= 0.9)\n",
    "\n",
    "#print(cond6g[20000:20040])"
   ]
  },
  {
   "cell_type": "code",
   "execution_count": null,
   "id": "7dd014c5-b5da-4459-961b-8c781702f748",
   "metadata": {},
   "outputs": [],
   "source": [
    "#We stablish the bin range and size \n",
    "my_bins = np.arange(22.5,26.0001,0.02)\n",
    "#my_bins"
   ]
  },
  {
   "cell_type": "code",
   "execution_count": null,
   "id": "96175fe1-61cd-4655-82cf-44d95764ba8f",
   "metadata": {},
   "outputs": [],
   "source": [
    "cpc_g6,bins = np.histogram(d6['d6psfdg'][cond6g], bins=my_bins,range = (22.5, 26.0))\n",
    "cpc_r6,bins = np.histogram(d6['d6psfdr'][cond6r], bins=my_bins,range = (22.5, 26.0))\n",
    "cpc_z6,bins = np.histogram(d6['d6psfdz'][cond6z], bins=my_bins,range = (22.5, 26.0))\n",
    "cpc_g7,bins = np.histogram(d7['d7psfdg'][cond7g], bins=my_bins,range = (22.5, 26.0))\n",
    "cpc_r7,bins = np.histogram(d7['d7psfdr'][cond7r], bins=my_bins,range = (22.5, 26.0))\n",
    "cpc_z7,bins = np.histogram(d7['d7psfdz'][cond7z], bins=my_bins,range = (22.5, 26.0))\n",
    "\n",
    "#print(cpc_g6)\n",
    "#print(cpc_g7)\n",
    "#print(cpc_z6)"
   ]
  },
  {
   "cell_type": "code",
   "execution_count": null,
   "id": "f7992c5c-d7bd-4a4d-ae20-d98dc3290055",
   "metadata": {},
   "outputs": [],
   "source": [
    "centers = (bins[0:-1]+bins[1:])/2"
   ]
  },
  {
   "cell_type": "code",
   "execution_count": null,
   "id": "f03a78f5-c3c4-4891-b48d-724da32494d1",
   "metadata": {},
   "outputs": [],
   "source": [
    "plt.bar(centers,cpc_g6/maxg6)"
   ]
  },
  {
   "cell_type": "code",
   "execution_count": null,
   "id": "b500a06e-5c68-42d3-8172-9097c771f17d",
   "metadata": {},
   "outputs": [],
   "source": [
    "# Calculate the cumulative sum, maximum and the fraction of each band\n",
    "\n",
    "cpcf_g1 = np.cumsum(cpc_g6)\n",
    "max_g6 = cpcf_g1.max()\n",
    "cpcf_g1 = cpcf_g1/max_g6\n",
    "cpcf_r1 = np.cumsum(cpc_r6)\n",
    "max_r6 = cpcf_r1.max()\n",
    "cpcf_r1 = cpcf_r1/max_r6\n",
    "cpcf_z1 = np.cumsum(cpc_z6)\n",
    "max_z6 = cpcf_z1.max()\n",
    "cpcf_z1 = cpcf_z1/max_z6\n",
    "\n",
    "cpcf_g2 = np.cumsum(cpc_g7)\n",
    "max_g7 = cpcf_g2.max()\n",
    "cpcf_g2 = cpcf_g2/max_g7\n",
    "\n",
    "cpcf_r2 = np.cumsum(cpc_r7)\n",
    "max_r7 = cpcf_r2.max()\n",
    "cpcf_r2 = cpcf_r2/max_r7\n",
    "\n",
    "cpcf_z2 = np.cumsum(cpc_z7)\n",
    "max_z7 = cpcf_z2.max()\n",
    "cpcf_z2 = cpcf_z2/max_z7"
   ]
  },
  {
   "cell_type": "code",
   "execution_count": null,
   "id": "4489bcb1-f4b8-4dde-ada9-abf7dffe2902",
   "metadata": {},
   "outputs": [],
   "source": [
    "font = {'family' : 'monospace',\n",
    "        'weight' : 'bold',\n",
    "        'size'   : 16}\n",
    "\n",
    "matplotlib.rc('font', **font)\n",
    "#fig, ax = plt.subplots()\n",
    "                       \n",
    "plt.figure(figsize=(9,8))\n",
    "plt.xlim(22.5,26.0)\n",
    "plt.ylim(0,1.)\n",
    "plt.xlabel('AB Magnitude', fontsize = 20)\n",
    "plt.ylabel('Cumulative fraction', fontsize = 20)\n",
    "#plt.Axes.tick_params(axis='both', direction = 'in')\n",
    "#ax.tick_params(axis='both', direction = 'in')\n",
    "plt.plot(centers,cpcf_g2, c='blue', label='DR7 g', lw=0.8)\n",
    "plt.plot(centers,cpcf_g1, c='blue', ls='dashed', label='DR6 g', lw=0.8)\n",
    "plt.plot(centers,cpcf_r2, c='red', label='DR7 r', lw=0.8)\n",
    "plt.plot(centers,cpcf_r1, c='red', ls='dashed', label='DR6 r', lw=0.8)\n",
    "plt.plot(centers,cpcf_z2, c='purple', label='DR7 z', lw=0.8)\n",
    "plt.plot(centers,cpcf_z1, c='purple', ls='dashed', label='DR6 z', lw=0.8)\n",
    "\n",
    "plt.legend(loc=7,frameon=False)\n",
    "plt.show()"
   ]
  },
  {
   "cell_type": "code",
   "execution_count": null,
   "id": "bf0cf323-8acd-476b-9d13-aa4e5e9f7b6a",
   "metadata": {},
   "outputs": [],
   "source": [
    "total_ng9 = d9['d9ng1'] + d9['d9ng2'] + d9['d9ng3'] + d9['d9ng4'] + d9['d9ng5'] + d9['d9ng6']\n",
    "total_nr9 = d9['d9nr1'] + d9['d9nr2'] + d9['d9nr3'] + d9['d9nr4'] + d9['d9nr5'] + d9['d9nr6']\n",
    "total_nz9 = d9['d9nz1'] + d9['d9nz2'] + d9['d9nz3'] + d9['d9nz4'] + d9['d9nz5'] + d9['d9nz6']\n",
    "\n",
    "ge3_ng9 = (d9['d9ng3'] + d9['d9ng4'] + d9['d9ng5'] + d9['d9ng6'])\n",
    "ge3_nr9 = (d9['d9nr3'] + d9['d9nr4'] + d9['d9nr5'] + d9['d9nr6'])\n",
    "ge3_nz9 = (d9['d9nz3'] + d9['d9nz4'] + d9['d9nz5'] + d9['d9nz6'])\n",
    "\n",
    "fraction_ng9 = ge3_ng9 / total_ng9\n",
    "fraction_nr9 = ge3_nr9 / total_nr9\n",
    "fraction_nz9 = ge3_nz9 / total_nz9\n",
    "\n",
    "cond9g = (d9['d9neg'] >= 3)  & (d9['nobjs'] >= nmin)  & (total_ng9 > npix) &  (fraction_ng9 >= 0.9)\n",
    "cond9r = (d9['d9ner'] >= 3)  & (d9['nobjs'] >= nmin)  & (total_nr9 > npix) &  (fraction_nr9 >= 0.9)\n",
    "cond9z = (d9['d9nez'] >= 3)  & (d9['nobjs'] >= nmin)  & (total_nz9 > npix) &  (fraction_nz9 >= 0.9)\n",
    "\n",
    "cpc_g9,bins = np.histogram(d9['d9psfdg'][cond9g], bins=my_bins,range = (22.5, 29.0))\n",
    "cpc_r9,bins = np.histogram(d9['d9psfdr'][cond9r], bins=my_bins,range = (22.5, 29.0))\n",
    "cpc_z9,bins = np.histogram(d9['d9psfdz'][cond9z], bins=my_bins,range = (22.5, 29.0))\n",
    "#print(cpc_g9)\n",
    "#print(cpc_r9)\n",
    "#print(cpc_z9)\n",
    "\n",
    "cpcf_g3 = np.cumsum(cpc_g9)\n",
    "max_g9 = cpcf_g3.max()\n",
    "cpcf_g3 = cpcf_g3/max_g9\n",
    "cpcf_r3 = np.cumsum(cpc_r9)\n",
    "max_r9 = cpcf_r3.max()\n",
    "cpcf_r3 = cpcf_r3/max_r9\n",
    "cpcf_z3 = np.cumsum(cpc_z9)\n",
    "max_z9 = cpcf_z3.max()\n",
    "cpcf_z3 = cpcf_z3/max_z9"
   ]
  },
  {
   "cell_type": "code",
   "execution_count": null,
   "id": "d89e7e54-d166-41d8-a19e-bb8fce7e7c58",
   "metadata": {},
   "outputs": [],
   "source": [
    "plt.figure(figsize=(9,8))\n",
    "plt.xlim(22.5,26.0)\n",
    "plt.ylim(0,1.)\n",
    "plt.xlabel('AB Magnitude', fontsize = 20)\n",
    "plt.ylabel('Cumulative fraction', fontsize = 20)\n",
    "\n",
    "plt.plot(centers,cpcf_g3, c='blue', label='DR9 g', lw=0.8)\n",
    "plt.plot(centers,cpcf_r3, c='red', label='DR9 r', lw=0.8)\n",
    "plt.plot(centers,cpcf_z3, c='purple', label='DR9 z', lw=0.8)"
   ]
  },
  {
   "cell_type": "code",
   "execution_count": null,
   "id": "13b1f866-9a3a-4c01-bbeb-0955ecead48a",
   "metadata": {},
   "outputs": [],
   "source": [
    "plt.figure(figsize=(9,8))\n",
    "plt.xlim(22.5,26.0)\n",
    "plt.ylim(0,1.)\n",
    "plt.xlabel('AB Magnitude', fontsize = 20)\n",
    "plt.ylabel('Cumulative fraction', fontsize = 20)\n",
    "\n",
    "plt.plot(centers,cpcf_g2, c='blue', label='DR7 g', lw=0.8)\n",
    "plt.plot(centers,cpcf_g1, c='blue', ls='dashed', label='DR6 g', lw=0.8)\n",
    "plt.plot(centers,cpcf_r2, c='red', label='DR7 r', lw=0.8)\n",
    "plt.plot(centers,cpcf_r1, c='red', ls='dashed', label='DR6 r', lw=0.8)\n",
    "plt.plot(centers,cpcf_z2, c='purple', label='DR7 z', lw=0.8)\n",
    "plt.plot(centers,cpcf_z1, c='purple', ls='dashed', label='DR6 z', lw=0.8)\n",
    "plt.plot(centers,cpcf_g3, c='blue', label='DR9 g', ls='solid', lw=2)\n",
    "plt.plot(centers,cpcf_r3, c='red', label='DR9 r', ls='solid',lw=2)\n",
    "plt.plot(centers,cpcf_z3, c='purple', label='DR9 z',ls='solid', lw=2)\n",
    "\n",
    "plt.legend(loc=7,frameon=False)\n",
    "plt.show()"
   ]
  },
  {
   "cell_type": "markdown",
   "id": "aa7f0ead-5ada-4531-8598-f0dffc2ff925",
   "metadata": {},
   "source": [
    ".  \n",
    "## Fig. 8"
   ]
  },
  {
   "cell_type": "markdown",
   "id": "983736e1-5f45-4dc9-a91a-15e534ed1d27",
   "metadata": {},
   "source": [
    ".  \n",
    ".  "
   ]
  },
  {
   "cell_type": "code",
   "execution_count": null,
   "id": "8107eeda-6df6-48a9-bbaf-0f5fbdf24867",
   "metadata": {},
   "outputs": [],
   "source": [
    "# Fig. 8\n",
    "\n",
    "query_fig8 = (\"\"\"\n",
    "select l.mag_w1, l.mag_w2, l.dered_mag_w1, l.dered_mag_w2, a.w1mpro +\n",
    "2.699 as w1mpro, a.w2mpro + 3.339 as w2mpro\n",
    "from ls_dr7.tractor as l, allwise.source as a\n",
    "where q3c_radial_query(a.ra,a.dec,l.ra,l.dec,1/3600.) \n",
    "and l.random_id between 45. and 45.23 limit 200000\n",
    "\"\"\")\n",
    "print (query_fig8)"
   ]
  },
  {
   "cell_type": "code",
   "execution_count": null,
   "id": "9f859841-d7c7-41f2-916d-5a40522d0f31",
   "metadata": {
    "scrolled": true
   },
   "outputs": [],
   "source": [
    "# Fetch the W1 mag from ls_dr17.tractor and from allwise.source\n",
    "#w1_awls = qc.query(sql=query_fig8, fmt='csv')\n",
    "\n",
    "#data_awls = Table.read(w1_awls, format='csv')\n",
    "\n",
    "#data_awls[:10]"
   ]
  },
  {
   "cell_type": "code",
   "execution_count": null,
   "id": "db255ba6-be53-49bd-b713-0f8ee2684c07",
   "metadata": {},
   "outputs": [],
   "source": [
    "#len(data_awls)\n",
    "# Fetch the W1 mag from ls_dr17.tractor and from allwise.source\n",
    "w1_awls = qc.query(sql=query_fig8, fmt='pandas')"
   ]
  },
  {
   "cell_type": "code",
   "execution_count": null,
   "id": "61a9fd8d-4b27-4423-add0-0d4e96cf571a",
   "metadata": {},
   "outputs": [],
   "source": [
    "w1_awls "
   ]
  },
  {
   "cell_type": "code",
   "execution_count": null,
   "id": "2e6c8970-e3b4-4679-8451-d86cf92159f2",
   "metadata": {},
   "outputs": [],
   "source": [
    "w1_awls.index[np.isinf(w1_awls).any(1)]"
   ]
  },
  {
   "cell_type": "code",
   "execution_count": null,
   "id": "92db8823-bd5d-4c3c-bcff-1e4fb3e8d139",
   "metadata": {},
   "outputs": [],
   "source": [
    "foo = w1_awls[~w1_awls.isin([np.inf,-np.inf])]"
   ]
  },
  {
   "cell_type": "code",
   "execution_count": null,
   "id": "78aefe6b-f92c-4f47-8945-5076073f3fe8",
   "metadata": {},
   "outputs": [],
   "source": [
    "data_awls = foo.dropna().reset_index()\n",
    "data_awls"
   ]
  },
  {
   "cell_type": "code",
   "execution_count": null,
   "id": "0bdcd7c8-688c-46c0-9afc-467196a43702",
   "metadata": {},
   "outputs": [],
   "source": [
    "x_fig8a = data_awls['w1mpro']\n",
    "y_fig8a = data_awls['mag_w1']\n",
    "plt.figure(figsize=(9,8))\n",
    "plt.axline([0,0], c='black', slope=1, linewidth=0.2)\n",
    "plt.hist2d(x_fig8a,y_fig8a, bins=(50,50), norm = colors.LogNorm(), cmap = plt.cm.Greys)\n",
    "plt.xlabel('AllWISE W1')\n",
    "plt.ylabel('LS W1')\n",
    "plt.xlim(reversed(plt.xlim(5.,19)))\n",
    "plt.ylim(reversed(plt.ylim(5.,19)))"
   ]
  },
  {
   "cell_type": "markdown",
   "id": "697cc2e1-0bd8-4e5d-954f-7322e4829628",
   "metadata": {},
   "source": [
    ".  \n",
    ".  \n",
    "## Fig 8b\n",
    ".  "
   ]
  },
  {
   "cell_type": "markdown",
   "id": "a406c2fd-22e7-4b45-af0a-74baa05253d3",
   "metadata": {},
   "source": [
    "Right panel: the number counts in the Legacy Survey catalog compared with those\r",
    "from AllWISE, demonstrating the increased depth made possible from using The Tractor. By using optical imaging from Legacy Surveys to detect objects,\r",
    "photometry is measured for objects that are well below the detection limit of the AllWISE catalog."
   ]
  },
  {
   "cell_type": "code",
   "execution_count": null,
   "id": "009c02ee-195d-44ed-a14f-90d1af9c14d0",
   "metadata": {},
   "outputs": [],
   "source": []
  },
  {
   "cell_type": "markdown",
   "id": "73d34242-f12d-49a6-8d67-31531bf8fe37",
   "metadata": {},
   "source": [
    ".  \n",
    ".  \n",
    "## Fig 16\n",
    ".  \n",
    "\n"
   ]
  },
  {
   "cell_type": "code",
   "execution_count": null,
   "id": "b5510145-02c7-4563-9f37-a3ed9ff89f98",
   "metadata": {},
   "outputs": [],
   "source": [
    "#Fig. 16\n",
    "query_fig16a = (\"\"\"\n",
    "SELECT r_z, g_r, z_w1, type \n",
    "FROM ls_dr6.tractor \n",
    "WHERE (type = 'EXP' or type = 'DEV' or type = 'PSF') AND\n",
    "(r_z != 'inf' and r_z != 'nan') AND\n",
    "(g_r != 'inf' and g_r != 'nan') AND\n",
    "(z_w1 != 'inf' and z_w1 != 'nan') AND\n",
    "random_id BETWEEN 11. AND 11.2\n",
    "LIMIT 180000\n",
    "\"\"\")\n",
    "print(query_fig16a)"
   ]
  },
  {
   "cell_type": "code",
   "execution_count": null,
   "id": "bad374eb-eb58-403f-8b53-0cfed456a8a4",
   "metadata": {},
   "outputs": [],
   "source": [
    "# Fetch the W1 mag from ls_dr17.tractor and from allwise.source\n",
    "df16 = qc.query(sql=query_fig16a, fmt='pandas')\n",
    "\n",
    "#color_type = Table.read(data16, format='pandas')\n",
    "\n",
    "df16[:10]"
   ]
  },
  {
   "cell_type": "code",
   "execution_count": null,
   "id": "12037966-5197-4cc8-a6ca-6754cb6d7f3b",
   "metadata": {},
   "outputs": [],
   "source": [
    "#df16.replace([np.nan, np.inf, -np.inf], 999, inplace = True)\n",
    "len(df16)"
   ]
  },
  {
   "cell_type": "code",
   "execution_count": null,
   "id": "5f33d038-bb59-46d4-8caf-e3c4e6aa5938",
   "metadata": {},
   "outputs": [],
   "source": [
    "df16['g_r']"
   ]
  },
  {
   "cell_type": "code",
   "execution_count": null,
   "id": "e3de4771-8960-4097-b244-3333395c82b0",
   "metadata": {},
   "outputs": [],
   "source": [
    "#x = np.linspace(0, 2 * np.pi, 400)\n",
    "#y = np.sin(x ** 2) + 1.5\n",
    "cond1 = (df16['type'] == 'PSF')\n",
    "cond2 = (df16['type'] == 'EXP')\n",
    "cond3 = (df16['type'] == 'DEV')\n",
    "\n",
    "x00 = df16['g_r'][cond1]\n",
    "y00 = df16['r_z'][cond1]\n",
    "z00 = x00*y00 \n",
    "\n",
    "fig, axs = plt.subplots(2, 3, figsize = (14, 11))\n",
    "#plt.figure(figsize=(9,8))\n",
    "plt.subplots_adjust(wspace = 0.18, hspace = 0.18)\n",
    "\n",
    "#plt.hist2d(x_fig8,y_fig8, bins=(200,200), norm = colors.LogNorm(), cmap = plt.cm.Greys)\n",
    "#axs[0,0].plot(x,y)\n",
    "#axs[0,1].plot(x,y, 'tab:green')\n",
    "\n",
    "#axs[0,0].hist2d(df16['g_r'][cond1],df16['r_z'][cond1], bins=400, norm = colors.LogNorm(), cmap = plt.cm.Greys)\n",
    "#axs[0,0].hist2d(df16['r_z'][cond1],df16['g_r'][cond1], bins=400, norm = colors.LogNorm(), cmap = plt.cm.Greys)\n",
    "h,x_edges,y_edges,im = axs[0,0].hist2d(df16['g_r'][cond1],df16['r_z'][cond1], bins=400, norm = colors.Normalize(), cmap = plt.cm.Greys)\n",
    "MAX = h.max()\n",
    "x_centers = 0.5*(x_edges[1:] + x_edges[:-1])\n",
    "y_centers = 0.5*(y_edges[1:] + y_edges[:-1])\n",
    "print(h.shape,x_centers.shape,x_edges.shape)\n",
    "\n",
    "axs[0,0].contour(x_centers,y_centers,h,origin = 'lower', levels=np.array((0.01, 0.1, 0.4)) * MAX, linestyles = '-')\n",
    "axs[0,0].set_xlim(0,2.50)\n",
    "axs[0,0].set_ylim(-0.01,3)\n",
    "axs[0,0].set(xlabel='r-z', ylabel='g-r')\n",
    "\n",
    "axs[0,1].hist2d(df16['g_r'][cond2],df16['r_z'][cond2], bins=400, norm = colors.LogNorm(), cmap = plt.cm.Greys)\n",
    "#axs[0,1].hist2d(df16['r_z'][cond2],df16['g_r'][cond2], bins=400, norm = colors.LogNorm(), cmap = plt.cm.Greys)\n",
    "axs[0,1].set_xlim(0,2.50)\n",
    "axs[0,1].set_ylim(-0.01,3)\n",
    "axs[0,1].set(xlabel='r-z', ylabel='g-r')\n",
    "\n",
    "axs[0,2].hist2d(df16['g_r'][cond3],df16['r_z'][cond3], bins=400, norm = colors.LogNorm(), cmap = plt.cm.Greys)\n",
    "#axs[0,2].hist2d(df16['r_z'][cond3],df16['g_r'][cond3], bins=400, norm = colors.LogNorm(), cmap = plt.cm.Greys)\n",
    "axs[0,2].set_xlim(0,2.50)\n",
    "axs[0,2].set_ylim(-0.01,3)\n",
    "axs[0,2].set(xlabel='r-z', ylabel='g-r')\n",
    "\n",
    "axs[1,0].hist2d(df16['r_z'][cond1],df16['z_w1'][cond1], bins=400, norm = colors.LogNorm(), cmap = plt.cm.Greys)\n",
    "#axs[1,0].hist2d(df16['z_w1'][cond1],df16['r_z'][cond1], bins=400, norm = colors.LogNorm(), cmap = plt.cm.Greys)\n",
    "axs[1,0].set_xlim(0,3)\n",
    "axs[1,0].set_ylim(-2,2.5)\n",
    "axs[1,0].set(xlabel='r-z', ylabel='z-W1')\n",
    "\n",
    "axs[1,1].hist2d(df16['r_z'][cond2],df16['z_w1'][cond2], bins=400, norm = colors.LogNorm(), cmap = plt.cm.Greys)\n",
    "#axs[1,1].hist2d(df16['z_w1'][cond2],df16['r_z'][cond2], bins=400, norm = colors.LogNorm(), cmap = plt.cm.Greys)\n",
    "axs[1,1].set_xlim(0,3)\n",
    "axs[1,1].set_ylim(-2,2.5)\n",
    "axs[1,1].set(xlabel='r-z', ylabel='z-W1')\n",
    "\n",
    "axs[1,2].hist2d(df16['r_z'][cond3],df16['z_w1'][cond3], bins=400, norm = colors.LogNorm(), cmap = plt.cm.Greys)\n",
    "#axs[1,2].hist2d(df16['z_w1'][cond3],df16['r_z'][cond3], bins=400, norm = colors.LogNorm(), cmap = plt.cm.Greys)\n",
    "axs[1,2].set_xlim(0,3)\n",
    "axs[1,2].set_ylim(-2,2.5)\n",
    "axs[1,2].set(xlabel='r-z', ylabel='z-W1')\n",
    "\n",
    "plt.show()\n",
    "# Hide x labels and tick labels for top plots and y ticks for right plots.\n",
    "#for ax in axs.flat:\n",
    "#    ax.label_outer()\n",
    "    "
   ]
  },
  {
   "cell_type": "code",
   "execution_count": null,
   "id": "6fb6c0ee-2a5a-4d99-b61f-5495c9a2f2b5",
   "metadata": {},
   "outputs": [],
   "source": [
    "x = np.arange(1, 10)\n",
    "y = x.reshape(-1, 1)\n",
    "h = x * y\n",
    "\n",
    "cs = plt.contourf(h, levels=[10, 30, 50],\n",
    "    colors=['#808080', '#A0A0A0', '#C0C0C0'], extend='both')\n",
    "cs.cmap.set_over('red')\n",
    "cs.cmap.set_under('blue')\n",
    "cs.changed()\n"
   ]
  },
  {
   "cell_type": "code",
   "execution_count": null,
   "id": "78e70e92-db63-47ec-a730-735f6a992f21",
   "metadata": {},
   "outputs": [],
   "source": [
    "(df16['r_z'][cond1] == 999.0).all()"
   ]
  },
  {
   "cell_type": "code",
   "execution_count": null,
   "id": "97fcb5b1-75cf-497c-b896-2125ed097841",
   "metadata": {},
   "outputs": [],
   "source": []
  }
 ],
 "metadata": {
  "kernelspec": {
   "display_name": "Python 3",
   "language": "python",
   "name": "python3"
  },
  "language_info": {
   "codemirror_mode": {
    "name": "ipython",
    "version": 3
   },
   "file_extension": ".py",
   "mimetype": "text/x-python",
   "name": "python",
   "nbconvert_exporter": "python",
   "pygments_lexer": "ipython3",
   "version": "3.8.8"
  }
 },
 "nbformat": 4,
 "nbformat_minor": 5
}
